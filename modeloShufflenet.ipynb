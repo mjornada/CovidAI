{
  "nbformat": 4,
  "nbformat_minor": 0,
  "metadata": {
    "colab": {
      "name": "modeloShufflenet.ipynb",
      "provenance": [],
      "mount_file_id": "1D9l66AAnH3oMFrzawND7EH-EfOxaYtEl",
      "authorship_tag": "ABX9TyPX3Wbod5YsMfxKoDRIoedm",
      "include_colab_link": true
    },
    "kernelspec": {
      "name": "python3",
      "display_name": "Python 3"
    },
    "language_info": {
      "name": "python"
    },
    "widgets": {
      "application/vnd.jupyter.widget-state+json": {
        "971b8fc145154c2aaaf49d2a12105151": {
          "model_module": "@jupyter-widgets/controls",
          "model_name": "HBoxModel",
          "model_module_version": "1.5.0",
          "state": {
            "_view_name": "HBoxView",
            "_dom_classes": [],
            "_model_name": "HBoxModel",
            "_view_module": "@jupyter-widgets/controls",
            "_model_module_version": "1.5.0",
            "_view_count": null,
            "_view_module_version": "1.5.0",
            "box_style": "",
            "layout": "IPY_MODEL_b77d9aa81a3a412b84025334df71c4ce",
            "_model_module": "@jupyter-widgets/controls",
            "children": [
              "IPY_MODEL_04005074fa0b4beca68e685a8861b15b",
              "IPY_MODEL_7959faecd9df4164b5729d3ce9430437"
            ]
          }
        },
        "b77d9aa81a3a412b84025334df71c4ce": {
          "model_module": "@jupyter-widgets/base",
          "model_name": "LayoutModel",
          "model_module_version": "1.2.0",
          "state": {
            "_view_name": "LayoutView",
            "grid_template_rows": null,
            "right": null,
            "justify_content": null,
            "_view_module": "@jupyter-widgets/base",
            "overflow": null,
            "_model_module_version": "1.2.0",
            "_view_count": null,
            "flex_flow": null,
            "width": null,
            "min_width": null,
            "border": null,
            "align_items": null,
            "bottom": null,
            "_model_module": "@jupyter-widgets/base",
            "top": null,
            "grid_column": null,
            "overflow_y": null,
            "overflow_x": null,
            "grid_auto_flow": null,
            "grid_area": null,
            "grid_template_columns": null,
            "flex": null,
            "_model_name": "LayoutModel",
            "justify_items": null,
            "grid_row": null,
            "max_height": null,
            "align_content": null,
            "visibility": null,
            "align_self": null,
            "height": null,
            "min_height": null,
            "padding": null,
            "grid_auto_rows": null,
            "grid_gap": null,
            "max_width": null,
            "order": null,
            "_view_module_version": "1.2.0",
            "grid_template_areas": null,
            "object_position": null,
            "object_fit": null,
            "grid_auto_columns": null,
            "margin": null,
            "display": null,
            "left": null
          }
        },
        "04005074fa0b4beca68e685a8861b15b": {
          "model_module": "@jupyter-widgets/controls",
          "model_name": "FloatProgressModel",
          "model_module_version": "1.5.0",
          "state": {
            "_view_name": "ProgressView",
            "style": "IPY_MODEL_7998a362c5174bb18e2eb6e06a6f9b1f",
            "_dom_classes": [],
            "description": "100%",
            "_model_name": "FloatProgressModel",
            "bar_style": "success",
            "max": 5538128,
            "_view_module": "@jupyter-widgets/controls",
            "_model_module_version": "1.5.0",
            "value": 5538128,
            "_view_count": null,
            "_view_module_version": "1.5.0",
            "orientation": "horizontal",
            "min": 0,
            "description_tooltip": null,
            "_model_module": "@jupyter-widgets/controls",
            "layout": "IPY_MODEL_60a38c94b03d40f8ae0bb8c92a361753"
          }
        },
        "7959faecd9df4164b5729d3ce9430437": {
          "model_module": "@jupyter-widgets/controls",
          "model_name": "HTMLModel",
          "model_module_version": "1.5.0",
          "state": {
            "_view_name": "HTMLView",
            "style": "IPY_MODEL_97153d42a6d4413ea9916bbc21ac8b18",
            "_dom_classes": [],
            "description": "",
            "_model_name": "HTMLModel",
            "placeholder": "​",
            "_view_module": "@jupyter-widgets/controls",
            "_model_module_version": "1.5.0",
            "value": " 5.28M/5.28M [00:03&lt;00:00, 1.39MB/s]",
            "_view_count": null,
            "_view_module_version": "1.5.0",
            "description_tooltip": null,
            "_model_module": "@jupyter-widgets/controls",
            "layout": "IPY_MODEL_1155788101664a2dadf5b486c315a5f3"
          }
        },
        "7998a362c5174bb18e2eb6e06a6f9b1f": {
          "model_module": "@jupyter-widgets/controls",
          "model_name": "ProgressStyleModel",
          "model_module_version": "1.5.0",
          "state": {
            "_view_name": "StyleView",
            "_model_name": "ProgressStyleModel",
            "description_width": "initial",
            "_view_module": "@jupyter-widgets/base",
            "_model_module_version": "1.5.0",
            "_view_count": null,
            "_view_module_version": "1.2.0",
            "bar_color": null,
            "_model_module": "@jupyter-widgets/controls"
          }
        },
        "60a38c94b03d40f8ae0bb8c92a361753": {
          "model_module": "@jupyter-widgets/base",
          "model_name": "LayoutModel",
          "model_module_version": "1.2.0",
          "state": {
            "_view_name": "LayoutView",
            "grid_template_rows": null,
            "right": null,
            "justify_content": null,
            "_view_module": "@jupyter-widgets/base",
            "overflow": null,
            "_model_module_version": "1.2.0",
            "_view_count": null,
            "flex_flow": null,
            "width": null,
            "min_width": null,
            "border": null,
            "align_items": null,
            "bottom": null,
            "_model_module": "@jupyter-widgets/base",
            "top": null,
            "grid_column": null,
            "overflow_y": null,
            "overflow_x": null,
            "grid_auto_flow": null,
            "grid_area": null,
            "grid_template_columns": null,
            "flex": null,
            "_model_name": "LayoutModel",
            "justify_items": null,
            "grid_row": null,
            "max_height": null,
            "align_content": null,
            "visibility": null,
            "align_self": null,
            "height": null,
            "min_height": null,
            "padding": null,
            "grid_auto_rows": null,
            "grid_gap": null,
            "max_width": null,
            "order": null,
            "_view_module_version": "1.2.0",
            "grid_template_areas": null,
            "object_position": null,
            "object_fit": null,
            "grid_auto_columns": null,
            "margin": null,
            "display": null,
            "left": null
          }
        },
        "97153d42a6d4413ea9916bbc21ac8b18": {
          "model_module": "@jupyter-widgets/controls",
          "model_name": "DescriptionStyleModel",
          "model_module_version": "1.5.0",
          "state": {
            "_view_name": "StyleView",
            "_model_name": "DescriptionStyleModel",
            "description_width": "",
            "_view_module": "@jupyter-widgets/base",
            "_model_module_version": "1.5.0",
            "_view_count": null,
            "_view_module_version": "1.2.0",
            "_model_module": "@jupyter-widgets/controls"
          }
        },
        "1155788101664a2dadf5b486c315a5f3": {
          "model_module": "@jupyter-widgets/base",
          "model_name": "LayoutModel",
          "model_module_version": "1.2.0",
          "state": {
            "_view_name": "LayoutView",
            "grid_template_rows": null,
            "right": null,
            "justify_content": null,
            "_view_module": "@jupyter-widgets/base",
            "overflow": null,
            "_model_module_version": "1.2.0",
            "_view_count": null,
            "flex_flow": null,
            "width": null,
            "min_width": null,
            "border": null,
            "align_items": null,
            "bottom": null,
            "_model_module": "@jupyter-widgets/base",
            "top": null,
            "grid_column": null,
            "overflow_y": null,
            "overflow_x": null,
            "grid_auto_flow": null,
            "grid_area": null,
            "grid_template_columns": null,
            "flex": null,
            "_model_name": "LayoutModel",
            "justify_items": null,
            "grid_row": null,
            "max_height": null,
            "align_content": null,
            "visibility": null,
            "align_self": null,
            "height": null,
            "min_height": null,
            "padding": null,
            "grid_auto_rows": null,
            "grid_gap": null,
            "max_width": null,
            "order": null,
            "_view_module_version": "1.2.0",
            "grid_template_areas": null,
            "object_position": null,
            "object_fit": null,
            "grid_auto_columns": null,
            "margin": null,
            "display": null,
            "left": null
          }
        }
      }
    }
  },
  "cells": [
    {
      "cell_type": "markdown",
      "metadata": {
        "id": "view-in-github",
        "colab_type": "text"
      },
      "source": [
        "<a href=\"https://colab.research.google.com/github/mjornada/CovidAI/blob/main/modeloShufflenet.ipynb\" target=\"_parent\"><img src=\"https://colab.research.google.com/assets/colab-badge.svg\" alt=\"Open In Colab\"/></a>"
      ]
    },
    {
      "cell_type": "markdown",
      "metadata": {
        "id": "guFwtTWrKZUc"
      },
      "source": [
        "# **Kaggle**"
      ]
    },
    {
      "cell_type": "code",
      "metadata": {
        "id": "jaPaZeTLDUjH"
      },
      "source": [
        "! pip install -q kaggle"
      ],
      "execution_count": null,
      "outputs": []
    },
    {
      "cell_type": "code",
      "metadata": {
        "id": "ag-GbTdrDZJR"
      },
      "source": [
        "from google.colab import files"
      ],
      "execution_count": null,
      "outputs": []
    },
    {
      "cell_type": "code",
      "metadata": {
        "colab": {
          "resources": {
            "http://localhost:8080/nbextensions/google.colab/files.js": {
              "data": "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",
              "ok": true,
              "headers": [
                [
                  "content-type",
                  "application/javascript"
                ]
              ],
              "status": 200,
              "status_text": ""
            }
          },
          "base_uri": "https://localhost:8080/",
          "height": 89
        },
        "id": "rSLaS_AJDboI",
        "outputId": "a61726fb-a33c-44a1-89ac-6d518ae132f8"
      },
      "source": [
        "files.upload()"
      ],
      "execution_count": null,
      "outputs": [
        {
          "output_type": "display_data",
          "data": {
            "text/html": [
              "\n",
              "     <input type=\"file\" id=\"files-54759d68-f183-4629-96a5-b0a627a11239\" name=\"files[]\" multiple disabled\n",
              "        style=\"border:none\" />\n",
              "     <output id=\"result-54759d68-f183-4629-96a5-b0a627a11239\">\n",
              "      Upload widget is only available when the cell has been executed in the\n",
              "      current browser session. Please rerun this cell to enable.\n",
              "      </output>\n",
              "      <script src=\"/nbextensions/google.colab/files.js\"></script> "
            ],
            "text/plain": [
              "<IPython.core.display.HTML object>"
            ]
          },
          "metadata": {
            "tags": []
          }
        },
        {
          "output_type": "stream",
          "text": [
            "Saving kaggle.json to kaggle.json\n"
          ],
          "name": "stdout"
        },
        {
          "output_type": "execute_result",
          "data": {
            "text/plain": [
              "{'kaggle.json': b'{\"username\":\"mjornada\",\"key\":\"d63d90137ac1121386da0769dbaf314d\"}'}"
            ]
          },
          "metadata": {
            "tags": []
          },
          "execution_count": 4
        }
      ]
    },
    {
      "cell_type": "code",
      "metadata": {
        "id": "0JaU_lPhDhC4"
      },
      "source": [
        "! mkdir ~/.kaggle"
      ],
      "execution_count": null,
      "outputs": []
    },
    {
      "cell_type": "code",
      "metadata": {
        "id": "O3meobIUDkB5"
      },
      "source": [
        "! cp kaggle.json ~/.kaggle/"
      ],
      "execution_count": null,
      "outputs": []
    },
    {
      "cell_type": "code",
      "metadata": {
        "id": "BmdR7d4lDlfZ"
      },
      "source": [
        "! chmod 600 ~/.kaggle/kaggle.json"
      ],
      "execution_count": null,
      "outputs": []
    },
    {
      "cell_type": "code",
      "metadata": {
        "colab": {
          "base_uri": "https://localhost:8080/"
        },
        "id": "S_z9Inq_Dm8X",
        "outputId": "e971b2a2-7f73-4c2f-c05b-24b3a9d78e61"
      },
      "source": [
        "! kaggle datasets list"
      ],
      "execution_count": null,
      "outputs": [
        {
          "output_type": "stream",
          "text": [
            "Warning: Looks like you're using an outdated API Version, please consider updating (server 1.5.12 / client 1.5.4)\n",
            "ref                                                           title                                              size  lastUpdated          downloadCount  \n",
            "------------------------------------------------------------  ------------------------------------------------  -----  -------------------  -------------  \n",
            "gpreda/reddit-vaccine-myths                                   Reddit Vaccine Myths                              232KB  2021-06-30 11:37:00           8585  \n",
            "crowww/a-large-scale-fish-dataset                             A Large Scale Fish Dataset                          3GB  2021-04-28 17:03:01           5240  \n",
            "imsparsh/musicnet-dataset                                     MusicNet Dataset                                   22GB  2021-02-18 14:12:19           1836  \n",
            "promptcloud/careerbuilder-job-listing-2020                    Careerbuilder Job Listing 2020                     42MB  2021-03-05 06:59:52           1208  \n",
            "coloradokb/dandelionimages                                    DandelionImages                                     4GB  2021-02-19 20:03:47            597  \n",
            "nickuzmenkov/nih-chest-xrays-tfrecords                        NIH Chest X-rays TFRecords                         11GB  2021-03-09 04:49:23            663  \n",
            "dhruvildave/wikibooks-dataset                                 Wikibooks Dataset                                   2GB  2021-06-29 17:18:30           2313  \n",
            "fatiimaezzahra/famous-iconic-women                            Famous Iconic Women                               838MB  2021-02-28 14:56:00            878  \n",
            "mathurinache/twitter-edge-nodes                               Twitter Edge Nodes                                342MB  2021-03-08 06:43:04            596  \n",
            "alsgroup/end-als                                              End ALS Kaggle Challenge                           12GB  2021-04-08 12:16:37            748  \n",
            "simiotic/github-code-snippets                                 GitHub Code Snippets                                7GB  2021-03-03 11:34:39            193  \n",
            "landrykezebou/lvzhdr-tone-mapping-benchmark-dataset-tmonet    LVZ-HDR Tone Mapping Benchmark Dataset (TMO-Net)   24GB  2021-03-01 05:03:40            138  \n",
            "mathurinache/the-lj-speech-dataset                            The LJ Speech Dataset                               3GB  2021-02-15 09:19:54            213  \n",
            "imsparsh/accentdb-core-extended                               AccentDB - Core & Extended                          6GB  2021-02-17 14:22:54             87  \n",
            "nickuzmenkov/ranzcr-clip-kfold-tfrecords                      RANZCR CLiP KFold TFRecords                         2GB  2021-02-21 13:29:51             96  \n",
            "stuartjames/lights                                            LightS: Light Specularity Dataset                  18GB  2021-02-18 14:32:26             84  \n",
            "jessicali9530/animal-crossing-new-horizons-nookplaza-dataset  Animal Crossing New Horizons Catalog              577KB  2021-06-08 15:05:09           4286  \n",
            "datasnaek/youtube-new                                         Trending YouTube Video Statistics                 201MB  2019-06-03 00:56:47         143593  \n",
            "zynicide/wine-reviews                                         Wine Reviews                                       51MB  2017-11-27 17:08:04         139314  \n",
            "residentmario/ramen-ratings                                   Ramen Ratings                                      40KB  2018-01-11 16:04:39          24491  \n"
          ],
          "name": "stdout"
        }
      ]
    },
    {
      "cell_type": "markdown",
      "metadata": {
        "id": "1u11AVp5Kev4"
      },
      "source": [
        "# **Data Loader**"
      ]
    },
    {
      "cell_type": "code",
      "metadata": {
        "id": "ERc0WvRhDoQb"
      },
      "source": [
        "import urllib.request\n",
        "import os\n",
        "from PIL import Image,ImageStat\n",
        "import numpy as np\n",
        "import matplotlib.pyplot as plt\n",
        "\n",
        "import torchvision\n",
        "import torch\n",
        "import torch.nn as nn\n",
        "from torch.utils.data import  DataLoader\n",
        "import torchvision.transforms as transforms\n",
        "import torch.functional as F"
      ],
      "execution_count": null,
      "outputs": []
    },
    {
      "cell_type": "code",
      "metadata": {
        "colab": {
          "base_uri": "https://localhost:8080/"
        },
        "id": "9LLDZ_bpDrSk",
        "outputId": "04b981d8-c640-4207-a59a-44ed3ce99d82"
      },
      "source": [
        "!pwd"
      ],
      "execution_count": null,
      "outputs": [
        {
          "output_type": "stream",
          "text": [
            "/content\n"
          ],
          "name": "stdout"
        }
      ]
    },
    {
      "cell_type": "code",
      "metadata": {
        "id": "1WXZhuocDtSc"
      },
      "source": [
        "main_dir = \"/content/drive/MyDrive/pulmoes\"\n",
        "os.chdir(main_dir)"
      ],
      "execution_count": null,
      "outputs": []
    },
    {
      "cell_type": "code",
      "metadata": {
        "colab": {
          "base_uri": "https://localhost:8080/"
        },
        "id": "QCqRxdV3Du2b",
        "outputId": "956f69c8-8b09-47ca-e75c-fa60d214c41a"
      },
      "source": [
        "!pwd"
      ],
      "execution_count": null,
      "outputs": [
        {
          "output_type": "stream",
          "text": [
            "/content/drive/MyDrive/pulmoes\n"
          ],
          "name": "stdout"
        }
      ]
    },
    {
      "cell_type": "code",
      "metadata": {
        "colab": {
          "base_uri": "https://localhost:8080/"
        },
        "id": "TQLQIHRGDwzC",
        "outputId": "e40c4104-7875-4ee1-f538-e70d06fb7074"
      },
      "source": [
        "!ls"
      ],
      "execution_count": null,
      "outputs": [
        {
          "output_type": "stream",
          "text": [
            " covid\t\t\t     Normal.metadata.csv\n",
            " COVID.metadata.csv\t     opacidade\n",
            " Lung_Opacity.metadata.csv   viral\n",
            " normal\t\t\t    'Viral Pneumonia.metadata.csv'\n"
          ],
          "name": "stdout"
        }
      ]
    },
    {
      "cell_type": "code",
      "metadata": {
        "id": "bI9Iln0iDyTB"
      },
      "source": [
        "import pandas as pd\n",
        "import glob\n",
        "import pandas\n",
        "import numpy as np"
      ],
      "execution_count": null,
      "outputs": []
    },
    {
      "cell_type": "code",
      "metadata": {
        "id": "EjL6zEW6D0Hi"
      },
      "source": [
        "def image_loader(img):\n",
        "  return Image.open(img)"
      ],
      "execution_count": null,
      "outputs": []
    },
    {
      "cell_type": "code",
      "metadata": {
        "id": "agN3leKBD1R-"
      },
      "source": [
        "img = image_loader('normal/Normal-50.png')"
      ],
      "execution_count": null,
      "outputs": []
    },
    {
      "cell_type": "code",
      "metadata": {
        "colab": {
          "base_uri": "https://localhost:8080/",
          "height": 316
        },
        "id": "v3GPU4ZkD2rD",
        "outputId": "5d16bf12-3db3-499c-87fa-7ac91e14fef2"
      },
      "source": [
        "img.convert('RGB')"
      ],
      "execution_count": null,
      "outputs": [
        {
          "output_type": "execute_result",
          "data": {
            "image/png": "[encoded data removed]",
            "text/plain": [
              "<PIL.Image.Image image mode=RGB size=299x299 at 0x7FE7F6E16F90>"
            ]
          },
          "metadata": {
            "tags": []
          },
          "execution_count": 17
        }
      ]
    },
    {
      "cell_type": "code",
      "metadata": {
        "id": "5hiIiERhD_0M"
      },
      "source": [
        "transform = transforms.Compose([transforms.Resize((50,50)),\n",
        "                                transforms.ToTensor(),\n",
        "                                transforms.Normalize((0.5), (0.5))\n",
        "                                ])"
      ],
      "execution_count": null,
      "outputs": []
    },
    {
      "cell_type": "code",
      "metadata": {
        "id": "exW8Q2wHEB3f"
      },
      "source": [
        "img_tensor = transform(img)"
      ],
      "execution_count": null,
      "outputs": []
    },
    {
      "cell_type": "code",
      "metadata": {
        "colab": {
          "base_uri": "https://localhost:8080/"
        },
        "id": "fMgODMy-EDYV",
        "outputId": "12875368-b193-4bde-b56c-7b21774f1e7d"
      },
      "source": [
        "img_tensor.shape"
      ],
      "execution_count": null,
      "outputs": [
        {
          "output_type": "execute_result",
          "data": {
            "text/plain": [
              "torch.Size([1, 50, 50])"
            ]
          },
          "metadata": {
            "tags": []
          },
          "execution_count": 20
        }
      ]
    },
    {
      "cell_type": "code",
      "metadata": {
        "colab": {
          "base_uri": "https://localhost:8080/"
        },
        "id": "luCu5fGjEF2G",
        "outputId": "c4aa9846-7e49-47f5-dcda-38edd304079f"
      },
      "source": [
        "img_tensor.view(1,1,50,50).shape"
      ],
      "execution_count": null,
      "outputs": [
        {
          "output_type": "execute_result",
          "data": {
            "text/plain": [
              "torch.Size([1, 1, 50, 50])"
            ]
          },
          "metadata": {
            "tags": []
          },
          "execution_count": 21
        }
      ]
    },
    {
      "cell_type": "code",
      "metadata": {
        "colab": {
          "base_uri": "https://localhost:8080/"
        },
        "id": "p81h2jUyEHen",
        "outputId": "ad52f816-6dd9-4825-f7a1-f3074724c2ec"
      },
      "source": [
        "!ls"
      ],
      "execution_count": null,
      "outputs": [
        {
          "output_type": "stream",
          "text": [
            " covid\t\t\t     Normal.metadata.csv\n",
            " COVID.metadata.csv\t     opacidade\n",
            " Lung_Opacity.metadata.csv   viral\n",
            " normal\t\t\t    'Viral Pneumonia.metadata.csv'\n"
          ],
          "name": "stdout"
        }
      ]
    },
    {
      "cell_type": "markdown",
      "metadata": {
        "id": "8NI8SbSqKlhJ"
      },
      "source": [
        "# **Criação das Classes**"
      ]
    },
    {
      "cell_type": "code",
      "metadata": {
        "colab": {
          "base_uri": "https://localhost:8080/"
        },
        "id": "Buv_s_QAEIrE",
        "outputId": "378fb4f2-0a6c-47d4-ec6b-11da5242edf2"
      },
      "source": [
        "for file_names in os.scandir('./'):\n",
        "    print(file_names)"
      ],
      "execution_count": null,
      "outputs": [
        {
          "output_type": "stream",
          "text": [
            "<DirEntry 'COVID.metadata.csv'>\n",
            "<DirEntry 'Lung_Opacity.metadata.csv'>\n",
            "<DirEntry 'Normal.metadata.csv'>\n",
            "<DirEntry 'Viral Pneumonia.metadata.csv'>\n",
            "<DirEntry 'covid'>\n",
            "<DirEntry 'opacidade'>\n",
            "<DirEntry 'viral'>\n",
            "<DirEntry 'normal'>\n"
          ],
          "name": "stdout"
        }
      ]
    },
    {
      "cell_type": "code",
      "metadata": {
        "id": "mVglzl2AEKR8"
      },
      "source": [
        "dir = './'"
      ],
      "execution_count": null,
      "outputs": []
    },
    {
      "cell_type": "code",
      "metadata": {
        "id": "aeK8ZAwyEMA3"
      },
      "source": [
        "classes = [d.name for d in os.scandir(dir) if d.is_dir()]"
      ],
      "execution_count": null,
      "outputs": []
    },
    {
      "cell_type": "code",
      "metadata": {
        "colab": {
          "base_uri": "https://localhost:8080/"
        },
        "id": "xypHcF-TENsm",
        "outputId": "f55f7753-62b5-40ff-a3d6-ee1852435520"
      },
      "source": [
        "classes"
      ],
      "execution_count": null,
      "outputs": [
        {
          "output_type": "execute_result",
          "data": {
            "text/plain": [
              "['covid', 'opacidade', 'viral', 'normal']"
            ]
          },
          "metadata": {
            "tags": []
          },
          "execution_count": 26
        }
      ]
    },
    {
      "cell_type": "code",
      "metadata": {
        "colab": {
          "base_uri": "https://localhost:8080/"
        },
        "id": "a-t1QraKEOR0",
        "outputId": "075bfaeb-d2f1-4347-b6f6-467626d800aa"
      },
      "source": [
        "classes.sort()\n",
        "class_to_idx = {cls_name: i for i, cls_name in enumerate(classes)}\n",
        "class_to_idx"
      ],
      "execution_count": null,
      "outputs": [
        {
          "output_type": "execute_result",
          "data": {
            "text/plain": [
              "{'covid': 0, 'normal': 1, 'opacidade': 2, 'viral': 3}"
            ]
          },
          "metadata": {
            "tags": []
          },
          "execution_count": 27
        }
      ]
    },
    {
      "cell_type": "code",
      "metadata": {
        "id": "CkZN0swwESxg"
      },
      "source": [
        "instances = []\n",
        "for target_class in sorted(class_to_idx.keys()):\n",
        "        class_index = class_to_idx[target_class]\n",
        "        target_dir = os.path.join(dir, target_class)\n",
        "        for root, _, fnames in sorted(os.walk(target_dir, followlinks=True)):\n",
        "            for fname in sorted(fnames):\n",
        "                path = os.path.join(root, fname)\n",
        "                item = path, class_index\n",
        "                instances.append(item)"
      ],
      "execution_count": null,
      "outputs": []
    },
    {
      "cell_type": "code",
      "metadata": {
        "colab": {
          "base_uri": "https://localhost:8080/"
        },
        "id": "b7bhX82CEUex",
        "outputId": "8d2dfb4b-ab21-493c-809c-d6cf65c504d4"
      },
      "source": [
        "instances"
      ],
      "execution_count": null,
      "outputs": [
        {
          "output_type": "execute_result",
          "data": {
            "text/plain": [
              "[('./covid/COVID-1.png', 0),\n",
              " ('./covid/COVID-10.png', 0),\n",
              " ('./covid/COVID-100.png', 0),\n",
              " ('./covid/COVID-1000.png', 0),\n",
              " ('./covid/COVID-1001.png', 0),\n",
              " ('./covid/COVID-1002.png', 0),\n",
              " ('./covid/COVID-1003.png', 0),\n",
              " ('./covid/COVID-1004.png', 0),\n",
              " ('./covid/COVID-1005.png', 0),\n",
              " ('./covid/COVID-1006.png', 0),\n",
              " ('./covid/COVID-1007.png', 0),\n",
              " ('./covid/COVID-1008.png', 0),\n",
              " ('./covid/COVID-1009.png', 0),\n",
              " ('./covid/COVID-101.png', 0),\n",
              " ('./covid/COVID-1010.png', 0),\n",
              " ('./covid/COVID-1011.png', 0),\n",
              " ('./covid/COVID-1012.png', 0),\n",
              " ('./covid/COVID-1013.png', 0),\n",
              " ('./covid/COVID-1014.png', 0),\n",
              " ('./covid/COVID-1015.png', 0),\n",
              " ('./covid/COVID-1016.png', 0),\n",
              " ('./covid/COVID-1017.png', 0),\n",
              " ('./covid/COVID-1018.png', 0),\n",
              " ('./covid/COVID-1019.png', 0),\n",
              " ('./covid/COVID-102.png', 0),\n",
              " ('./covid/COVID-1020.png', 0),\n",
              " ('./covid/COVID-1021.png', 0),\n",
              " ('./covid/COVID-1022.png', 0),\n",
              " ('./covid/COVID-1023.png', 0),\n",
              " ('./covid/COVID-1024.png', 0),\n",
              " ('./covid/COVID-1025.png', 0),\n",
              " ('./covid/COVID-1026.png', 0),\n",
              " ('./covid/COVID-1027.png', 0),\n",
              " ('./covid/COVID-1028.png', 0),\n",
              " ('./covid/COVID-1029.png', 0),\n",
              " ('./covid/COVID-103.png', 0),\n",
              " ('./covid/COVID-1030.png', 0),\n",
              " ('./covid/COVID-1031.png', 0),\n",
              " ('./covid/COVID-1032.png', 0),\n",
              " ('./covid/COVID-1033.png', 0),\n",
              " ('./covid/COVID-1034.png', 0),\n",
              " ('./covid/COVID-1035.png', 0),\n",
              " ('./covid/COVID-1036.png', 0),\n",
              " ('./covid/COVID-1037.png', 0),\n",
              " ('./covid/COVID-1038.png', 0),\n",
              " ('./covid/COVID-1039.png', 0),\n",
              " ('./covid/COVID-104.png', 0),\n",
              " ('./covid/COVID-1040.png', 0),\n",
              " ('./covid/COVID-1041.png', 0),\n",
              " ('./covid/COVID-1042.png', 0),\n",
              " ('./covid/COVID-1043.png', 0),\n",
              " ('./covid/COVID-1044.png', 0),\n",
              " ('./covid/COVID-1045.png', 0),\n",
              " ('./covid/COVID-1046.png', 0),\n",
              " ('./covid/COVID-1047.png', 0),\n",
              " ('./covid/COVID-1048.png', 0),\n",
              " ('./covid/COVID-1049.png', 0),\n",
              " ('./covid/COVID-105.png', 0),\n",
              " ('./covid/COVID-1050.png', 0),\n",
              " ('./covid/COVID-1051.png', 0),\n",
              " ('./covid/COVID-1052.png', 0),\n",
              " ('./covid/COVID-1053.png', 0),\n",
              " ('./covid/COVID-1054.png', 0),\n",
              " ('./covid/COVID-1055.png', 0),\n",
              " ('./covid/COVID-1056.png', 0),\n",
              " ('./covid/COVID-1057.png', 0),\n",
              " ('./covid/COVID-1058.png', 0),\n",
              " ('./covid/COVID-1059.png', 0),\n",
              " ('./covid/COVID-106.png', 0),\n",
              " ('./covid/COVID-1060.png', 0),\n",
              " ('./covid/COVID-1061.png', 0),\n",
              " ('./covid/COVID-1062.png', 0),\n",
              " ('./covid/COVID-1063.png', 0),\n",
              " ('./covid/COVID-1064.png', 0),\n",
              " ('./covid/COVID-1065.png', 0),\n",
              " ('./covid/COVID-1066.png', 0),\n",
              " ('./covid/COVID-1067.png', 0),\n",
              " ('./covid/COVID-1068.png', 0),\n",
              " ('./covid/COVID-1069.png', 0),\n",
              " ('./covid/COVID-107.png', 0),\n",
              " ('./covid/COVID-1070.png', 0),\n",
              " ('./covid/COVID-1071.png', 0),\n",
              " ('./covid/COVID-1072.png', 0),\n",
              " ('./covid/COVID-1073.png', 0),\n",
              " ('./covid/COVID-1074.png', 0),\n",
              " ('./covid/COVID-1075.png', 0),\n",
              " ('./covid/COVID-1076.png', 0),\n",
              " ('./covid/COVID-1077.png', 0),\n",
              " ('./covid/COVID-1078.png', 0),\n",
              " ('./covid/COVID-1079.png', 0),\n",
              " ('./covid/COVID-108.png', 0),\n",
              " ('./covid/COVID-1080.png', 0),\n",
              " ('./covid/COVID-1081.png', 0),\n",
              " ('./covid/COVID-1082.png', 0),\n",
              " ('./covid/COVID-1083.png', 0),\n",
              " ('./covid/COVID-1084.png', 0),\n",
              " ('./covid/COVID-1085.png', 0),\n",
              " ('./covid/COVID-1086.png', 0),\n",
              " ('./covid/COVID-1087.png', 0),\n",
              " ('./covid/COVID-1088.png', 0),\n",
              " ('./covid/COVID-1089.png', 0),\n",
              " ('./covid/COVID-109.png', 0),\n",
              " ('./covid/COVID-1090.png', 0),\n",
              " ('./covid/COVID-1091.png', 0),\n",
              " ('./covid/COVID-1092.png', 0),\n",
              " ('./covid/COVID-1093.png', 0),\n",
              " ('./covid/COVID-1094.png', 0),\n",
              " ('./covid/COVID-1095.png', 0),\n",
              " ('./covid/COVID-1096.png', 0),\n",
              " ('./covid/COVID-1097.png', 0),\n",
              " ('./covid/COVID-1098.png', 0),\n",
              " ('./covid/COVID-1099.png', 0),\n",
              " ('./covid/COVID-11.png', 0),\n",
              " ('./covid/COVID-110.png', 0),\n",
              " ('./covid/COVID-1100.png', 0),\n",
              " ('./covid/COVID-1101.png', 0),\n",
              " ('./covid/COVID-1102.png', 0),\n",
              " ('./covid/COVID-1103.png', 0),\n",
              " ('./covid/COVID-1104.png', 0),\n",
              " ('./covid/COVID-1105.png', 0),\n",
              " ('./covid/COVID-1106.png', 0),\n",
              " ('./covid/COVID-1107.png', 0),\n",
              " ('./covid/COVID-1108.png', 0),\n",
              " ('./covid/COVID-1109.png', 0),\n",
              " ('./covid/COVID-111.png', 0),\n",
              " ('./covid/COVID-1110.png', 0),\n",
              " ('./covid/COVID-1111.png', 0),\n",
              " ('./covid/COVID-1112.png', 0),\n",
              " ('./covid/COVID-1113.png', 0),\n",
              " ('./covid/COVID-1114.png', 0),\n",
              " ('./covid/COVID-1115.png', 0),\n",
              " ('./covid/COVID-1116.png', 0),\n",
              " ('./covid/COVID-1117.png', 0),\n",
              " ('./covid/COVID-1118.png', 0),\n",
              " ('./covid/COVID-1119.png', 0),\n",
              " ('./covid/COVID-112.png', 0),\n",
              " ('./covid/COVID-1120.png', 0),\n",
              " ('./covid/COVID-1121.png', 0),\n",
              " ('./covid/COVID-1122.png', 0),\n",
              " ('./covid/COVID-1123.png', 0),\n",
              " ('./covid/COVID-1124.png', 0),\n",
              " ('./covid/COVID-1125.png', 0),\n",
              " ('./covid/COVID-1126.png', 0),\n",
              " ('./covid/COVID-1127.png', 0),\n",
              " ('./covid/COVID-1128.png', 0),\n",
              " ('./covid/COVID-1129.png', 0),\n",
              " ('./covid/COVID-113.png', 0),\n",
              " ('./covid/COVID-1130.png', 0),\n",
              " ('./covid/COVID-1131.png', 0),\n",
              " ('./covid/COVID-1132.png', 0),\n",
              " ('./covid/COVID-1133.png', 0),\n",
              " ('./covid/COVID-1134.png', 0),\n",
              " ('./covid/COVID-1135.png', 0),\n",
              " ('./covid/COVID-1136.png', 0),\n",
              " ('./covid/COVID-1137.png', 0),\n",
              " ('./covid/COVID-1138.png', 0),\n",
              " ('./covid/COVID-1139.png', 0),\n",
              " ('./covid/COVID-114.png', 0),\n",
              " ('./covid/COVID-1140.png', 0),\n",
              " ('./covid/COVID-1141.png', 0),\n",
              " ('./covid/COVID-1142.png', 0),\n",
              " ('./covid/COVID-1143.png', 0),\n",
              " ('./covid/COVID-1144.png', 0),\n",
              " ('./covid/COVID-1145.png', 0),\n",
              " ('./covid/COVID-1146.png', 0),\n",
              " ('./covid/COVID-1147.png', 0),\n",
              " ('./covid/COVID-1148.png', 0),\n",
              " ('./covid/COVID-1149.png', 0),\n",
              " ('./covid/COVID-115.png', 0),\n",
              " ('./covid/COVID-1150.png', 0),\n",
              " ('./covid/COVID-1151.png', 0),\n",
              " ('./covid/COVID-1152.png', 0),\n",
              " ('./covid/COVID-1153.png', 0),\n",
              " ('./covid/COVID-1154.png', 0),\n",
              " ('./covid/COVID-1155.png', 0),\n",
              " ('./covid/COVID-1156.png', 0),\n",
              " ('./covid/COVID-1157.png', 0),\n",
              " ('./covid/COVID-1158.png', 0),\n",
              " ('./covid/COVID-1159.png', 0),\n",
              " ('./covid/COVID-116.png', 0),\n",
              " ('./covid/COVID-1160.png', 0),\n",
              " ('./covid/COVID-1161.png', 0),\n",
              " ('./covid/COVID-1162.png', 0),\n",
              " ('./covid/COVID-1163.png', 0),\n",
              " ('./covid/COVID-1164.png', 0),\n",
              " ('./covid/COVID-1165.png', 0),\n",
              " ('./covid/COVID-1166.png', 0),\n",
              " ('./covid/COVID-1167.png', 0),\n",
              " ('./covid/COVID-1168.png', 0),\n",
              " ('./covid/COVID-1169.png', 0),\n",
              " ('./covid/COVID-117.png', 0),\n",
              " ('./covid/COVID-1170.png', 0),\n",
              " ('./covid/COVID-1171.png', 0),\n",
              " ('./covid/COVID-1172.png', 0),\n",
              " ('./covid/COVID-1173.png', 0),\n",
              " ('./covid/COVID-1174.png', 0),\n",
              " ('./covid/COVID-1175.png', 0),\n",
              " ('./covid/COVID-1176.png', 0),\n",
              " ('./covid/COVID-1177.png', 0),\n",
              " ('./covid/COVID-1178.png', 0),\n",
              " ('./covid/COVID-1179.png', 0),\n",
              " ('./covid/COVID-118.png', 0),\n",
              " ('./covid/COVID-1180.png', 0),\n",
              " ('./covid/COVID-1181.png', 0),\n",
              " ('./covid/COVID-1182.png', 0),\n",
              " ('./covid/COVID-1183.png', 0),\n",
              " ('./covid/COVID-1184.png', 0),\n",
              " ('./covid/COVID-1185.png', 0),\n",
              " ('./covid/COVID-1186.png', 0),\n",
              " ('./covid/COVID-1187.png', 0),\n",
              " ('./covid/COVID-1188.png', 0),\n",
              " ('./covid/COVID-1189.png', 0),\n",
              " ('./covid/COVID-119.png', 0),\n",
              " ('./covid/COVID-1190.png', 0),\n",
              " ('./covid/COVID-1191.png', 0),\n",
              " ('./covid/COVID-1192.png', 0),\n",
              " ('./covid/COVID-1193.png', 0),\n",
              " ('./covid/COVID-1194.png', 0),\n",
              " ('./covid/COVID-1195.png', 0),\n",
              " ('./covid/COVID-1196.png', 0),\n",
              " ('./covid/COVID-1197.png', 0),\n",
              " ('./covid/COVID-1198.png', 0),\n",
              " ('./covid/COVID-1199.png', 0),\n",
              " ('./covid/COVID-12.png', 0),\n",
              " ('./covid/COVID-120.png', 0),\n",
              " ('./covid/COVID-1200.png', 0),\n",
              " ('./covid/COVID-1201.png', 0),\n",
              " ('./covid/COVID-1202.png', 0),\n",
              " ('./covid/COVID-1203.png', 0),\n",
              " ('./covid/COVID-1204.png', 0),\n",
              " ('./covid/COVID-1205.png', 0),\n",
              " ('./covid/COVID-1206.png', 0),\n",
              " ('./covid/COVID-1207.png', 0),\n",
              " ('./covid/COVID-1208.png', 0),\n",
              " ('./covid/COVID-1209.png', 0),\n",
              " ('./covid/COVID-121.png', 0),\n",
              " ('./covid/COVID-1210.png', 0),\n",
              " ('./covid/COVID-1211.png', 0),\n",
              " ('./covid/COVID-1212.png', 0),\n",
              " ('./covid/COVID-1213.png', 0),\n",
              " ('./covid/COVID-1214.png', 0),\n",
              " ('./covid/COVID-1215.png', 0),\n",
              " ('./covid/COVID-1216.png', 0),\n",
              " ('./covid/COVID-1217.png', 0),\n",
              " ('./covid/COVID-1218.png', 0),\n",
              " ('./covid/COVID-1219.png', 0),\n",
              " ('./covid/COVID-122.png', 0),\n",
              " ('./covid/COVID-1220.png', 0),\n",
              " ('./covid/COVID-1221.png', 0),\n",
              " ('./covid/COVID-1222.png', 0),\n",
              " ('./covid/COVID-1223.png', 0),\n",
              " ('./covid/COVID-1224.png', 0),\n",
              " ('./covid/COVID-1225.png', 0),\n",
              " ('./covid/COVID-1226.png', 0),\n",
              " ('./covid/COVID-1227.png', 0),\n",
              " ('./covid/COVID-1228.png', 0),\n",
              " ('./covid/COVID-1229.png', 0),\n",
              " ('./covid/COVID-123.png', 0),\n",
              " ('./covid/COVID-1230.png', 0),\n",
              " ('./covid/COVID-1231.png', 0),\n",
              " ('./covid/COVID-1232.png', 0),\n",
              " ('./covid/COVID-1233.png', 0),\n",
              " ('./covid/COVID-1234.png', 0),\n",
              " ('./covid/COVID-1235.png', 0),\n",
              " ('./covid/COVID-1236.png', 0),\n",
              " ('./covid/COVID-1237.png', 0),\n",
              " ('./covid/COVID-1238.png', 0),\n",
              " ('./covid/COVID-1239.png', 0),\n",
              " ('./covid/COVID-124.png', 0),\n",
              " ('./covid/COVID-1240.png', 0),\n",
              " ('./covid/COVID-1241.png', 0),\n",
              " ('./covid/COVID-1242.png', 0),\n",
              " ('./covid/COVID-1243.png', 0),\n",
              " ('./covid/COVID-1244.png', 0),\n",
              " ('./covid/COVID-1245.png', 0),\n",
              " ('./covid/COVID-1246.png', 0),\n",
              " ('./covid/COVID-1247.png', 0),\n",
              " ('./covid/COVID-1248.png', 0),\n",
              " ('./covid/COVID-1249.png', 0),\n",
              " ('./covid/COVID-125.png', 0),\n",
              " ('./covid/COVID-1250.png', 0),\n",
              " ('./covid/COVID-1251.png', 0),\n",
              " ('./covid/COVID-1252.png', 0),\n",
              " ('./covid/COVID-1253.png', 0),\n",
              " ('./covid/COVID-1254.png', 0),\n",
              " ('./covid/COVID-1255.png', 0),\n",
              " ('./covid/COVID-1256.png', 0),\n",
              " ('./covid/COVID-1257.png', 0),\n",
              " ('./covid/COVID-1258.png', 0),\n",
              " ('./covid/COVID-1259.png', 0),\n",
              " ('./covid/COVID-126.png', 0),\n",
              " ('./covid/COVID-1260.png', 0),\n",
              " ('./covid/COVID-1261.png', 0),\n",
              " ('./covid/COVID-1262.png', 0),\n",
              " ('./covid/COVID-1263.png', 0),\n",
              " ('./covid/COVID-1264.png', 0),\n",
              " ('./covid/COVID-1265.png', 0),\n",
              " ('./covid/COVID-1266.png', 0),\n",
              " ('./covid/COVID-1267.png', 0),\n",
              " ('./covid/COVID-1268.png', 0),\n",
              " ('./covid/COVID-1269.png', 0),\n",
              " ('./covid/COVID-127.png', 0),\n",
              " ('./covid/COVID-1270.png', 0),\n",
              " ('./covid/COVID-1271.png', 0),\n",
              " ('./covid/COVID-1272.png', 0),\n",
              " ('./covid/COVID-1273.png', 0),\n",
              " ('./covid/COVID-1274.png', 0),\n",
              " ('./covid/COVID-1275.png', 0),\n",
              " ('./covid/COVID-1276.png', 0),\n",
              " ('./covid/COVID-1277.png', 0),\n",
              " ('./covid/COVID-1278.png', 0),\n",
              " ('./covid/COVID-1279.png', 0),\n",
              " ('./covid/COVID-128.png', 0),\n",
              " ('./covid/COVID-1280.png', 0),\n",
              " ('./covid/COVID-1281.png', 0),\n",
              " ('./covid/COVID-1282.png', 0),\n",
              " ('./covid/COVID-1283.png', 0),\n",
              " ('./covid/COVID-1284.png', 0),\n",
              " ('./covid/COVID-1285.png', 0),\n",
              " ('./covid/COVID-1286.png', 0),\n",
              " ('./covid/COVID-1287.png', 0),\n",
              " ('./covid/COVID-1288.png', 0),\n",
              " ('./covid/COVID-1289.png', 0),\n",
              " ('./covid/COVID-129.png', 0),\n",
              " ('./covid/COVID-1290.png', 0),\n",
              " ('./covid/COVID-1291.png', 0),\n",
              " ('./covid/COVID-1292.png', 0),\n",
              " ('./covid/COVID-1293.png', 0),\n",
              " ('./covid/COVID-1294.png', 0),\n",
              " ('./covid/COVID-1295.png', 0),\n",
              " ('./covid/COVID-1296.png', 0),\n",
              " ('./covid/COVID-1297.png', 0),\n",
              " ('./covid/COVID-1298.png', 0),\n",
              " ('./covid/COVID-1299.png', 0),\n",
              " ('./covid/COVID-13.png', 0),\n",
              " ('./covid/COVID-130.png', 0),\n",
              " ('./covid/COVID-1300.png', 0),\n",
              " ('./covid/COVID-1301.png', 0),\n",
              " ('./covid/COVID-1302.png', 0),\n",
              " ('./covid/COVID-1303.png', 0),\n",
              " ('./covid/COVID-1304.png', 0),\n",
              " ('./covid/COVID-1305.png', 0),\n",
              " ('./covid/COVID-1306.png', 0),\n",
              " ('./covid/COVID-1307.png', 0),\n",
              " ('./covid/COVID-1308.png', 0),\n",
              " ('./covid/COVID-1309.png', 0),\n",
              " ('./covid/COVID-131.png', 0),\n",
              " ('./covid/COVID-1310.png', 0),\n",
              " ('./covid/COVID-1311.png', 0),\n",
              " ('./covid/COVID-1312.png', 0),\n",
              " ('./covid/COVID-1313.png', 0),\n",
              " ('./covid/COVID-1314.png', 0),\n",
              " ('./covid/COVID-1315.png', 0),\n",
              " ('./covid/COVID-1316.png', 0),\n",
              " ('./covid/COVID-1317.png', 0),\n",
              " ('./covid/COVID-1318.png', 0),\n",
              " ('./covid/COVID-1319.png', 0),\n",
              " ('./covid/COVID-132.png', 0),\n",
              " ('./covid/COVID-1320.png', 0),\n",
              " ('./covid/COVID-1321.png', 0),\n",
              " ('./covid/COVID-1322.png', 0),\n",
              " ('./covid/COVID-1323.png', 0),\n",
              " ('./covid/COVID-1324.png', 0),\n",
              " ('./covid/COVID-1325.png', 0),\n",
              " ('./covid/COVID-1326.png', 0),\n",
              " ('./covid/COVID-1327.png', 0),\n",
              " ('./covid/COVID-1328.png', 0),\n",
              " ('./covid/COVID-1329.png', 0),\n",
              " ('./covid/COVID-133.png', 0),\n",
              " ('./covid/COVID-1330.png', 0),\n",
              " ('./covid/COVID-1331.png', 0),\n",
              " ('./covid/COVID-1332.png', 0),\n",
              " ('./covid/COVID-1333.png', 0),\n",
              " ('./covid/COVID-1334.png', 0),\n",
              " ('./covid/COVID-1335.png', 0),\n",
              " ('./covid/COVID-1336.png', 0),\n",
              " ('./covid/COVID-1337.png', 0),\n",
              " ('./covid/COVID-1338.png', 0),\n",
              " ('./covid/COVID-1339.png', 0),\n",
              " ('./covid/COVID-134.png', 0),\n",
              " ('./covid/COVID-1340.png', 0),\n",
              " ('./covid/COVID-1341.png', 0),\n",
              " ('./covid/COVID-1342.png', 0),\n",
              " ('./covid/COVID-1343.png', 0),\n",
              " ('./covid/COVID-1344.png', 0),\n",
              " ('./covid/COVID-1345.png', 0),\n",
              " ('./covid/COVID-1346.png', 0),\n",
              " ('./covid/COVID-1347.png', 0),\n",
              " ('./covid/COVID-1348.png', 0),\n",
              " ('./covid/COVID-1349.png', 0),\n",
              " ('./covid/COVID-135.png', 0),\n",
              " ('./covid/COVID-1350.png', 0),\n",
              " ('./covid/COVID-1351.png', 0),\n",
              " ('./covid/COVID-1352.png', 0),\n",
              " ('./covid/COVID-1353.png', 0),\n",
              " ('./covid/COVID-1354.png', 0),\n",
              " ('./covid/COVID-1355.png', 0),\n",
              " ('./covid/COVID-1356.png', 0),\n",
              " ('./covid/COVID-1357.png', 0),\n",
              " ('./covid/COVID-1358.png', 0),\n",
              " ('./covid/COVID-1359.png', 0),\n",
              " ('./covid/COVID-136.png', 0),\n",
              " ('./covid/COVID-1360.png', 0),\n",
              " ('./covid/COVID-1361.png', 0),\n",
              " ('./covid/COVID-1362.png', 0),\n",
              " ('./covid/COVID-1363.png', 0),\n",
              " ('./covid/COVID-1364.png', 0),\n",
              " ('./covid/COVID-1365.png', 0),\n",
              " ('./covid/COVID-1366.png', 0),\n",
              " ('./covid/COVID-1367.png', 0),\n",
              " ('./covid/COVID-1368.png', 0),\n",
              " ('./covid/COVID-1369.png', 0),\n",
              " ('./covid/COVID-137.png', 0),\n",
              " ('./covid/COVID-1370.png', 0),\n",
              " ('./covid/COVID-1371.png', 0),\n",
              " ('./covid/COVID-1372.png', 0),\n",
              " ('./covid/COVID-1373.png', 0),\n",
              " ('./covid/COVID-1374.png', 0),\n",
              " ('./covid/COVID-1375.png', 0),\n",
              " ('./covid/COVID-1376.png', 0),\n",
              " ('./covid/COVID-1377.png', 0),\n",
              " ('./covid/COVID-1378.png', 0),\n",
              " ('./covid/COVID-1379.png', 0),\n",
              " ('./covid/COVID-138.png', 0),\n",
              " ('./covid/COVID-1380.png', 0),\n",
              " ('./covid/COVID-1381.png', 0),\n",
              " ('./covid/COVID-1382.png', 0),\n",
              " ('./covid/COVID-1383.png', 0),\n",
              " ('./covid/COVID-1384.png', 0),\n",
              " ('./covid/COVID-1385.png', 0),\n",
              " ('./covid/COVID-1386.png', 0),\n",
              " ('./covid/COVID-1387.png', 0),\n",
              " ('./covid/COVID-1388.png', 0),\n",
              " ('./covid/COVID-1389.png', 0),\n",
              " ('./covid/COVID-139.png', 0),\n",
              " ('./covid/COVID-1390.png', 0),\n",
              " ('./covid/COVID-1391.png', 0),\n",
              " ('./covid/COVID-1392.png', 0),\n",
              " ('./covid/COVID-1393.png', 0),\n",
              " ('./covid/COVID-1394.png', 0),\n",
              " ('./covid/COVID-1395.png', 0),\n",
              " ('./covid/COVID-1396.png', 0),\n",
              " ('./covid/COVID-1397.png', 0),\n",
              " ('./covid/COVID-1398.png', 0),\n",
              " ('./covid/COVID-1399.png', 0),\n",
              " ('./covid/COVID-14.png', 0),\n",
              " ('./covid/COVID-140.png', 0),\n",
              " ('./covid/COVID-1400.png', 0),\n",
              " ('./covid/COVID-1401.png', 0),\n",
              " ('./covid/COVID-1402.png', 0),\n",
              " ('./covid/COVID-1403.png', 0),\n",
              " ('./covid/COVID-1404.png', 0),\n",
              " ('./covid/COVID-1405.png', 0),\n",
              " ('./covid/COVID-1406.png', 0),\n",
              " ('./covid/COVID-1407.png', 0),\n",
              " ('./covid/COVID-1408.png', 0),\n",
              " ('./covid/COVID-1409.png', 0),\n",
              " ('./covid/COVID-141.png', 0),\n",
              " ('./covid/COVID-1410.png', 0),\n",
              " ('./covid/COVID-1411.png', 0),\n",
              " ('./covid/COVID-1412.png', 0),\n",
              " ('./covid/COVID-1413.png', 0),\n",
              " ('./covid/COVID-1414.png', 0),\n",
              " ('./covid/COVID-1415.png', 0),\n",
              " ('./covid/COVID-1416.png', 0),\n",
              " ('./covid/COVID-1417.png', 0),\n",
              " ('./covid/COVID-1418.png', 0),\n",
              " ('./covid/COVID-1419.png', 0),\n",
              " ('./covid/COVID-142.png', 0),\n",
              " ('./covid/COVID-1420.png', 0),\n",
              " ('./covid/COVID-1421.png', 0),\n",
              " ('./covid/COVID-1422.png', 0),\n",
              " ('./covid/COVID-1423.png', 0),\n",
              " ('./covid/COVID-1424.png', 0),\n",
              " ('./covid/COVID-1425.png', 0),\n",
              " ('./covid/COVID-1426.png', 0),\n",
              " ('./covid/COVID-1427.png', 0),\n",
              " ('./covid/COVID-1428.png', 0),\n",
              " ('./covid/COVID-1429.png', 0),\n",
              " ('./covid/COVID-143.png', 0),\n",
              " ('./covid/COVID-1430.png', 0),\n",
              " ('./covid/COVID-1431.png', 0),\n",
              " ('./covid/COVID-1432.png', 0),\n",
              " ('./covid/COVID-1433.png', 0),\n",
              " ('./covid/COVID-1434.png', 0),\n",
              " ('./covid/COVID-1435.png', 0),\n",
              " ('./covid/COVID-1436.png', 0),\n",
              " ('./covid/COVID-1437.png', 0),\n",
              " ('./covid/COVID-1438.png', 0),\n",
              " ('./covid/COVID-1439.png', 0),\n",
              " ('./covid/COVID-144.png', 0),\n",
              " ('./covid/COVID-1440.png', 0),\n",
              " ('./covid/COVID-1441.png', 0),\n",
              " ('./covid/COVID-1442.png', 0),\n",
              " ('./covid/COVID-1443.png', 0),\n",
              " ('./covid/COVID-1444.png', 0),\n",
              " ('./covid/COVID-1445.png', 0),\n",
              " ('./covid/COVID-1446.png', 0),\n",
              " ('./covid/COVID-1447.png', 0),\n",
              " ('./covid/COVID-1448.png', 0),\n",
              " ('./covid/COVID-1449.png', 0),\n",
              " ('./covid/COVID-145.png', 0),\n",
              " ('./covid/COVID-1450.png', 0),\n",
              " ('./covid/COVID-1451.png', 0),\n",
              " ('./covid/COVID-1452.png', 0),\n",
              " ('./covid/COVID-1453.png', 0),\n",
              " ('./covid/COVID-1454.png', 0),\n",
              " ('./covid/COVID-1455.png', 0),\n",
              " ('./covid/COVID-1456.png', 0),\n",
              " ('./covid/COVID-1457.png', 0),\n",
              " ('./covid/COVID-1458.png', 0),\n",
              " ('./covid/COVID-1459.png', 0),\n",
              " ('./covid/COVID-146.png', 0),\n",
              " ('./covid/COVID-1460.png', 0),\n",
              " ('./covid/COVID-1461.png', 0),\n",
              " ('./covid/COVID-1462.png', 0),\n",
              " ('./covid/COVID-1463.png', 0),\n",
              " ('./covid/COVID-1464.png', 0),\n",
              " ('./covid/COVID-1465.png', 0),\n",
              " ('./covid/COVID-1466.png', 0),\n",
              " ('./covid/COVID-1467.png', 0),\n",
              " ('./covid/COVID-1468.png', 0),\n",
              " ('./covid/COVID-1469.png', 0),\n",
              " ('./covid/COVID-147.png', 0),\n",
              " ('./covid/COVID-1470.png', 0),\n",
              " ('./covid/COVID-1471.png', 0),\n",
              " ('./covid/COVID-1472.png', 0),\n",
              " ('./covid/COVID-1473.png', 0),\n",
              " ('./covid/COVID-1474.png', 0),\n",
              " ('./covid/COVID-1475.png', 0),\n",
              " ('./covid/COVID-1476.png', 0),\n",
              " ('./covid/COVID-1477.png', 0),\n",
              " ('./covid/COVID-1478.png', 0),\n",
              " ('./covid/COVID-1479.png', 0),\n",
              " ('./covid/COVID-148.png', 0),\n",
              " ('./covid/COVID-1480.png', 0),\n",
              " ('./covid/COVID-1481.png', 0),\n",
              " ('./covid/COVID-1482.png', 0),\n",
              " ('./covid/COVID-1483.png', 0),\n",
              " ('./covid/COVID-1484.png', 0),\n",
              " ('./covid/COVID-1485.png', 0),\n",
              " ('./covid/COVID-1486.png', 0),\n",
              " ('./covid/COVID-1487.png', 0),\n",
              " ('./covid/COVID-1488.png', 0),\n",
              " ('./covid/COVID-1489.png', 0),\n",
              " ('./covid/COVID-149.png', 0),\n",
              " ('./covid/COVID-1490.png', 0),\n",
              " ('./covid/COVID-1491.png', 0),\n",
              " ('./covid/COVID-1492.png', 0),\n",
              " ('./covid/COVID-1493.png', 0),\n",
              " ('./covid/COVID-1494.png', 0),\n",
              " ('./covid/COVID-1495.png', 0),\n",
              " ('./covid/COVID-1496.png', 0),\n",
              " ('./covid/COVID-1497.png', 0),\n",
              " ('./covid/COVID-1498.png', 0),\n",
              " ('./covid/COVID-1499.png', 0),\n",
              " ('./covid/COVID-15.png', 0),\n",
              " ('./covid/COVID-150.png', 0),\n",
              " ('./covid/COVID-1500.png', 0),\n",
              " ('./covid/COVID-1501.png', 0),\n",
              " ('./covid/COVID-1502.png', 0),\n",
              " ('./covid/COVID-1503.png', 0),\n",
              " ('./covid/COVID-1504.png', 0),\n",
              " ('./covid/COVID-1505.png', 0),\n",
              " ('./covid/COVID-1506.png', 0),\n",
              " ('./covid/COVID-1507.png', 0),\n",
              " ('./covid/COVID-1508.png', 0),\n",
              " ('./covid/COVID-1509.png', 0),\n",
              " ('./covid/COVID-151.png', 0),\n",
              " ('./covid/COVID-1510.png', 0),\n",
              " ('./covid/COVID-1511.png', 0),\n",
              " ('./covid/COVID-1512.png', 0),\n",
              " ('./covid/COVID-1513.png', 0),\n",
              " ('./covid/COVID-1514.png', 0),\n",
              " ('./covid/COVID-1515.png', 0),\n",
              " ('./covid/COVID-1516.png', 0),\n",
              " ('./covid/COVID-1517.png', 0),\n",
              " ('./covid/COVID-1518.png', 0),\n",
              " ('./covid/COVID-1519.png', 0),\n",
              " ('./covid/COVID-152.png', 0),\n",
              " ('./covid/COVID-1520.png', 0),\n",
              " ('./covid/COVID-1521.png', 0),\n",
              " ('./covid/COVID-1522.png', 0),\n",
              " ('./covid/COVID-1523.png', 0),\n",
              " ('./covid/COVID-1524.png', 0),\n",
              " ('./covid/COVID-1525.png', 0),\n",
              " ('./covid/COVID-1526.png', 0),\n",
              " ('./covid/COVID-1527.png', 0),\n",
              " ('./covid/COVID-1528.png', 0),\n",
              " ('./covid/COVID-1529.png', 0),\n",
              " ('./covid/COVID-153.png', 0),\n",
              " ('./covid/COVID-1530.png', 0),\n",
              " ('./covid/COVID-1531.png', 0),\n",
              " ('./covid/COVID-1532.png', 0),\n",
              " ('./covid/COVID-1533.png', 0),\n",
              " ('./covid/COVID-1534.png', 0),\n",
              " ('./covid/COVID-1535.png', 0),\n",
              " ('./covid/COVID-1536.png', 0),\n",
              " ('./covid/COVID-1537.png', 0),\n",
              " ('./covid/COVID-1538.png', 0),\n",
              " ('./covid/COVID-1539.png', 0),\n",
              " ('./covid/COVID-154.png', 0),\n",
              " ('./covid/COVID-1540.png', 0),\n",
              " ('./covid/COVID-1541.png', 0),\n",
              " ('./covid/COVID-1542.png', 0),\n",
              " ('./covid/COVID-1543.png', 0),\n",
              " ('./covid/COVID-1544.png', 0),\n",
              " ('./covid/COVID-1545.png', 0),\n",
              " ('./covid/COVID-1546.png', 0),\n",
              " ('./covid/COVID-1547.png', 0),\n",
              " ('./covid/COVID-1548.png', 0),\n",
              " ('./covid/COVID-1549.png', 0),\n",
              " ('./covid/COVID-155.png', 0),\n",
              " ('./covid/COVID-1550.png', 0),\n",
              " ('./covid/COVID-1551.png', 0),\n",
              " ('./covid/COVID-1552.png', 0),\n",
              " ('./covid/COVID-1553.png', 0),\n",
              " ('./covid/COVID-1554.png', 0),\n",
              " ('./covid/COVID-1555.png', 0),\n",
              " ('./covid/COVID-1556.png', 0),\n",
              " ('./covid/COVID-1557.png', 0),\n",
              " ('./covid/COVID-1558.png', 0),\n",
              " ('./covid/COVID-1559.png', 0),\n",
              " ('./covid/COVID-156.png', 0),\n",
              " ('./covid/COVID-1560.png', 0),\n",
              " ('./covid/COVID-1561.png', 0),\n",
              " ('./covid/COVID-1562.png', 0),\n",
              " ('./covid/COVID-1563.png', 0),\n",
              " ('./covid/COVID-1564.png', 0),\n",
              " ('./covid/COVID-1565.png', 0),\n",
              " ('./covid/COVID-1566.png', 0),\n",
              " ('./covid/COVID-1567.png', 0),\n",
              " ('./covid/COVID-1568.png', 0),\n",
              " ('./covid/COVID-1569.png', 0),\n",
              " ('./covid/COVID-157.png', 0),\n",
              " ('./covid/COVID-1570.png', 0),\n",
              " ('./covid/COVID-1571.png', 0),\n",
              " ('./covid/COVID-1572.png', 0),\n",
              " ('./covid/COVID-1573.png', 0),\n",
              " ('./covid/COVID-1574.png', 0),\n",
              " ('./covid/COVID-1575.png', 0),\n",
              " ('./covid/COVID-1576.png', 0),\n",
              " ('./covid/COVID-1577.png', 0),\n",
              " ('./covid/COVID-1578.png', 0),\n",
              " ('./covid/COVID-1579.png', 0),\n",
              " ('./covid/COVID-158.png', 0),\n",
              " ('./covid/COVID-1580.png', 0),\n",
              " ('./covid/COVID-1581.png', 0),\n",
              " ('./covid/COVID-1582.png', 0),\n",
              " ('./covid/COVID-1583.png', 0),\n",
              " ('./covid/COVID-1584.png', 0),\n",
              " ('./covid/COVID-1585.png', 0),\n",
              " ('./covid/COVID-1586.png', 0),\n",
              " ('./covid/COVID-1587.png', 0),\n",
              " ('./covid/COVID-1588.png', 0),\n",
              " ('./covid/COVID-1589.png', 0),\n",
              " ('./covid/COVID-159.png', 0),\n",
              " ('./covid/COVID-1590.png', 0),\n",
              " ('./covid/COVID-1591.png', 0),\n",
              " ('./covid/COVID-1592.png', 0),\n",
              " ('./covid/COVID-1593.png', 0),\n",
              " ('./covid/COVID-1594.png', 0),\n",
              " ('./covid/COVID-1595.png', 0),\n",
              " ('./covid/COVID-1596.png', 0),\n",
              " ('./covid/COVID-1597.png', 0),\n",
              " ('./covid/COVID-1598.png', 0),\n",
              " ('./covid/COVID-1599.png', 0),\n",
              " ('./covid/COVID-16.png', 0),\n",
              " ('./covid/COVID-160.png', 0),\n",
              " ('./covid/COVID-1600.png', 0),\n",
              " ('./covid/COVID-1601.png', 0),\n",
              " ('./covid/COVID-1602.png', 0),\n",
              " ('./covid/COVID-1603.png', 0),\n",
              " ('./covid/COVID-1604.png', 0),\n",
              " ('./covid/COVID-1605.png', 0),\n",
              " ('./covid/COVID-1606.png', 0),\n",
              " ('./covid/COVID-1607.png', 0),\n",
              " ('./covid/COVID-1608.png', 0),\n",
              " ('./covid/COVID-1609.png', 0),\n",
              " ('./covid/COVID-161.png', 0),\n",
              " ('./covid/COVID-1610.png', 0),\n",
              " ('./covid/COVID-1611.png', 0),\n",
              " ('./covid/COVID-1612.png', 0),\n",
              " ('./covid/COVID-1613.png', 0),\n",
              " ('./covid/COVID-1614.png', 0),\n",
              " ('./covid/COVID-1615.png', 0),\n",
              " ('./covid/COVID-1616.png', 0),\n",
              " ('./covid/COVID-1617.png', 0),\n",
              " ('./covid/COVID-1618.png', 0),\n",
              " ('./covid/COVID-1619.png', 0),\n",
              " ('./covid/COVID-162.png', 0),\n",
              " ('./covid/COVID-1620.png', 0),\n",
              " ('./covid/COVID-1621.png', 0),\n",
              " ('./covid/COVID-1622.png', 0),\n",
              " ('./covid/COVID-1623.png', 0),\n",
              " ('./covid/COVID-1624.png', 0),\n",
              " ('./covid/COVID-1625.png', 0),\n",
              " ('./covid/COVID-1626.png', 0),\n",
              " ('./covid/COVID-1627.png', 0),\n",
              " ('./covid/COVID-1628.png', 0),\n",
              " ('./covid/COVID-1629.png', 0),\n",
              " ('./covid/COVID-163.png', 0),\n",
              " ('./covid/COVID-1630.png', 0),\n",
              " ('./covid/COVID-1631.png', 0),\n",
              " ('./covid/COVID-1632.png', 0),\n",
              " ('./covid/COVID-1633.png', 0),\n",
              " ('./covid/COVID-1634.png', 0),\n",
              " ('./covid/COVID-1635.png', 0),\n",
              " ('./covid/COVID-1636.png', 0),\n",
              " ('./covid/COVID-1637.png', 0),\n",
              " ('./covid/COVID-1638.png', 0),\n",
              " ('./covid/COVID-1639.png', 0),\n",
              " ('./covid/COVID-164.png', 0),\n",
              " ('./covid/COVID-1640.png', 0),\n",
              " ('./covid/COVID-1641.png', 0),\n",
              " ('./covid/COVID-1642.png', 0),\n",
              " ('./covid/COVID-1643.png', 0),\n",
              " ('./covid/COVID-1644.png', 0),\n",
              " ('./covid/COVID-1645.png', 0),\n",
              " ('./covid/COVID-1646.png', 0),\n",
              " ('./covid/COVID-1647.png', 0),\n",
              " ('./covid/COVID-1648.png', 0),\n",
              " ('./covid/COVID-1649.png', 0),\n",
              " ('./covid/COVID-165.png', 0),\n",
              " ('./covid/COVID-1650.png', 0),\n",
              " ('./covid/COVID-1651.png', 0),\n",
              " ('./covid/COVID-1652.png', 0),\n",
              " ('./covid/COVID-1653.png', 0),\n",
              " ('./covid/COVID-1654.png', 0),\n",
              " ('./covid/COVID-1655.png', 0),\n",
              " ('./covid/COVID-1656.png', 0),\n",
              " ('./covid/COVID-1657.png', 0),\n",
              " ('./covid/COVID-1658.png', 0),\n",
              " ('./covid/COVID-1659.png', 0),\n",
              " ('./covid/COVID-166.png', 0),\n",
              " ('./covid/COVID-1660.png', 0),\n",
              " ('./covid/COVID-1661.png', 0),\n",
              " ('./covid/COVID-1662.png', 0),\n",
              " ('./covid/COVID-1663.png', 0),\n",
              " ('./covid/COVID-1664.png', 0),\n",
              " ('./covid/COVID-1665.png', 0),\n",
              " ('./covid/COVID-1666.png', 0),\n",
              " ('./covid/COVID-1667.png', 0),\n",
              " ('./covid/COVID-1668.png', 0),\n",
              " ('./covid/COVID-1669.png', 0),\n",
              " ('./covid/COVID-167.png', 0),\n",
              " ('./covid/COVID-1670.png', 0),\n",
              " ('./covid/COVID-1671.png', 0),\n",
              " ('./covid/COVID-1672.png', 0),\n",
              " ('./covid/COVID-1673.png', 0),\n",
              " ('./covid/COVID-1674.png', 0),\n",
              " ('./covid/COVID-1675.png', 0),\n",
              " ('./covid/COVID-1676.png', 0),\n",
              " ('./covid/COVID-1677.png', 0),\n",
              " ('./covid/COVID-1678.png', 0),\n",
              " ('./covid/COVID-1679.png', 0),\n",
              " ('./covid/COVID-168.png', 0),\n",
              " ('./covid/COVID-1680.png', 0),\n",
              " ('./covid/COVID-1681.png', 0),\n",
              " ('./covid/COVID-1682.png', 0),\n",
              " ('./covid/COVID-1683.png', 0),\n",
              " ('./covid/COVID-1684.png', 0),\n",
              " ('./covid/COVID-1685.png', 0),\n",
              " ('./covid/COVID-1686.png', 0),\n",
              " ('./covid/COVID-1687.png', 0),\n",
              " ('./covid/COVID-1688.png', 0),\n",
              " ('./covid/COVID-1689.png', 0),\n",
              " ('./covid/COVID-169.png', 0),\n",
              " ('./covid/COVID-1690.png', 0),\n",
              " ('./covid/COVID-1691.png', 0),\n",
              " ('./covid/COVID-1692.png', 0),\n",
              " ('./covid/COVID-1693.png', 0),\n",
              " ('./covid/COVID-1694.png', 0),\n",
              " ('./covid/COVID-1695.png', 0),\n",
              " ('./covid/COVID-1696.png', 0),\n",
              " ('./covid/COVID-1697.png', 0),\n",
              " ('./covid/COVID-1698.png', 0),\n",
              " ('./covid/COVID-1699.png', 0),\n",
              " ('./covid/COVID-17.png', 0),\n",
              " ('./covid/COVID-170.png', 0),\n",
              " ('./covid/COVID-1700.png', 0),\n",
              " ('./covid/COVID-1701.png', 0),\n",
              " ('./covid/COVID-1702.png', 0),\n",
              " ('./covid/COVID-1703.png', 0),\n",
              " ('./covid/COVID-1704.png', 0),\n",
              " ('./covid/COVID-1705.png', 0),\n",
              " ('./covid/COVID-1706.png', 0),\n",
              " ('./covid/COVID-1707.png', 0),\n",
              " ('./covid/COVID-1708.png', 0),\n",
              " ('./covid/COVID-1709.png', 0),\n",
              " ('./covid/COVID-171.png', 0),\n",
              " ('./covid/COVID-1710.png', 0),\n",
              " ('./covid/COVID-1711.png', 0),\n",
              " ('./covid/COVID-1712.png', 0),\n",
              " ('./covid/COVID-1713.png', 0),\n",
              " ('./covid/COVID-1714.png', 0),\n",
              " ('./covid/COVID-1715.png', 0),\n",
              " ('./covid/COVID-1716.png', 0),\n",
              " ('./covid/COVID-1717.png', 0),\n",
              " ('./covid/COVID-1718.png', 0),\n",
              " ('./covid/COVID-1719.png', 0),\n",
              " ('./covid/COVID-172.png', 0),\n",
              " ('./covid/COVID-1720.png', 0),\n",
              " ('./covid/COVID-1721.png', 0),\n",
              " ('./covid/COVID-1722.png', 0),\n",
              " ('./covid/COVID-1723.png', 0),\n",
              " ('./covid/COVID-1724.png', 0),\n",
              " ('./covid/COVID-1725.png', 0),\n",
              " ('./covid/COVID-1726.png', 0),\n",
              " ('./covid/COVID-1727.png', 0),\n",
              " ('./covid/COVID-1728.png', 0),\n",
              " ('./covid/COVID-1729.png', 0),\n",
              " ('./covid/COVID-173.png', 0),\n",
              " ('./covid/COVID-1730.png', 0),\n",
              " ('./covid/COVID-1731.png', 0),\n",
              " ('./covid/COVID-1732.png', 0),\n",
              " ('./covid/COVID-1733.png', 0),\n",
              " ('./covid/COVID-1734.png', 0),\n",
              " ('./covid/COVID-1735.png', 0),\n",
              " ('./covid/COVID-1736.png', 0),\n",
              " ('./covid/COVID-1737.png', 0),\n",
              " ('./covid/COVID-1738.png', 0),\n",
              " ('./covid/COVID-1739.png', 0),\n",
              " ('./covid/COVID-174.png', 0),\n",
              " ('./covid/COVID-1740.png', 0),\n",
              " ('./covid/COVID-1741.png', 0),\n",
              " ('./covid/COVID-1742.png', 0),\n",
              " ('./covid/COVID-1743.png', 0),\n",
              " ('./covid/COVID-1744.png', 0),\n",
              " ('./covid/COVID-1745.png', 0),\n",
              " ('./covid/COVID-1746.png', 0),\n",
              " ('./covid/COVID-1747.png', 0),\n",
              " ('./covid/COVID-1748.png', 0),\n",
              " ('./covid/COVID-1749.png', 0),\n",
              " ('./covid/COVID-175.png', 0),\n",
              " ('./covid/COVID-1750.png', 0),\n",
              " ('./covid/COVID-1751.png', 0),\n",
              " ('./covid/COVID-1752.png', 0),\n",
              " ('./covid/COVID-1753.png', 0),\n",
              " ('./covid/COVID-1754.png', 0),\n",
              " ('./covid/COVID-1755.png', 0),\n",
              " ('./covid/COVID-1756.png', 0),\n",
              " ('./covid/COVID-1757.png', 0),\n",
              " ('./covid/COVID-1758.png', 0),\n",
              " ('./covid/COVID-1759.png', 0),\n",
              " ('./covid/COVID-176.png', 0),\n",
              " ('./covid/COVID-1760.png', 0),\n",
              " ('./covid/COVID-1761.png', 0),\n",
              " ('./covid/COVID-1762.png', 0),\n",
              " ('./covid/COVID-1763.png', 0),\n",
              " ('./covid/COVID-1764.png', 0),\n",
              " ('./covid/COVID-1765.png', 0),\n",
              " ('./covid/COVID-1766.png', 0),\n",
              " ('./covid/COVID-1767.png', 0),\n",
              " ('./covid/COVID-1768.png', 0),\n",
              " ('./covid/COVID-1769.png', 0),\n",
              " ('./covid/COVID-177.png', 0),\n",
              " ('./covid/COVID-1770.png', 0),\n",
              " ('./covid/COVID-1771.png', 0),\n",
              " ('./covid/COVID-1772.png', 0),\n",
              " ('./covid/COVID-1773.png', 0),\n",
              " ('./covid/COVID-1774.png', 0),\n",
              " ('./covid/COVID-1775.png', 0),\n",
              " ('./covid/COVID-1776.png', 0),\n",
              " ('./covid/COVID-1777.png', 0),\n",
              " ('./covid/COVID-1778.png', 0),\n",
              " ('./covid/COVID-1779.png', 0),\n",
              " ('./covid/COVID-178.png', 0),\n",
              " ('./covid/COVID-1780.png', 0),\n",
              " ('./covid/COVID-1781.png', 0),\n",
              " ('./covid/COVID-1782.png', 0),\n",
              " ('./covid/COVID-1783.png', 0),\n",
              " ('./covid/COVID-1784.png', 0),\n",
              " ('./covid/COVID-1785.png', 0),\n",
              " ('./covid/COVID-1786.png', 0),\n",
              " ('./covid/COVID-1787.png', 0),\n",
              " ('./covid/COVID-1788.png', 0),\n",
              " ('./covid/COVID-1789.png', 0),\n",
              " ('./covid/COVID-179.png', 0),\n",
              " ('./covid/COVID-1790.png', 0),\n",
              " ('./covid/COVID-1791.png', 0),\n",
              " ('./covid/COVID-1792.png', 0),\n",
              " ('./covid/COVID-1793.png', 0),\n",
              " ('./covid/COVID-1794.png', 0),\n",
              " ('./covid/COVID-1795.png', 0),\n",
              " ('./covid/COVID-1796.png', 0),\n",
              " ('./covid/COVID-1797.png', 0),\n",
              " ('./covid/COVID-1798.png', 0),\n",
              " ('./covid/COVID-1799.png', 0),\n",
              " ('./covid/COVID-18.png', 0),\n",
              " ('./covid/COVID-180.png', 0),\n",
              " ('./covid/COVID-1800.png', 0),\n",
              " ('./covid/COVID-1801.png', 0),\n",
              " ('./covid/COVID-1802.png', 0),\n",
              " ('./covid/COVID-1803.png', 0),\n",
              " ('./covid/COVID-1804.png', 0),\n",
              " ('./covid/COVID-1805.png', 0),\n",
              " ('./covid/COVID-1806.png', 0),\n",
              " ('./covid/COVID-1807.png', 0),\n",
              " ('./covid/COVID-1808.png', 0),\n",
              " ('./covid/COVID-1809.png', 0),\n",
              " ('./covid/COVID-181.png', 0),\n",
              " ('./covid/COVID-1810.png', 0),\n",
              " ('./covid/COVID-1811.png', 0),\n",
              " ('./covid/COVID-1812.png', 0),\n",
              " ('./covid/COVID-1813.png', 0),\n",
              " ('./covid/COVID-1814.png', 0),\n",
              " ('./covid/COVID-1815.png', 0),\n",
              " ('./covid/COVID-1816.png', 0),\n",
              " ('./covid/COVID-1817.png', 0),\n",
              " ('./covid/COVID-1818.png', 0),\n",
              " ('./covid/COVID-1819.png', 0),\n",
              " ('./covid/COVID-182.png', 0),\n",
              " ('./covid/COVID-1820.png', 0),\n",
              " ('./covid/COVID-1821.png', 0),\n",
              " ('./covid/COVID-1822.png', 0),\n",
              " ('./covid/COVID-1823.png', 0),\n",
              " ('./covid/COVID-1824.png', 0),\n",
              " ('./covid/COVID-1825.png', 0),\n",
              " ('./covid/COVID-1826.png', 0),\n",
              " ('./covid/COVID-1827.png', 0),\n",
              " ('./covid/COVID-1828.png', 0),\n",
              " ('./covid/COVID-1829.png', 0),\n",
              " ('./covid/COVID-183.png', 0),\n",
              " ('./covid/COVID-1830.png', 0),\n",
              " ('./covid/COVID-1831.png', 0),\n",
              " ('./covid/COVID-1832.png', 0),\n",
              " ('./covid/COVID-1833.png', 0),\n",
              " ('./covid/COVID-1834.png', 0),\n",
              " ('./covid/COVID-1835.png', 0),\n",
              " ('./covid/COVID-1836.png', 0),\n",
              " ('./covid/COVID-1837.png', 0),\n",
              " ('./covid/COVID-1838.png', 0),\n",
              " ('./covid/COVID-1839.png', 0),\n",
              " ('./covid/COVID-184.png', 0),\n",
              " ('./covid/COVID-1840.png', 0),\n",
              " ('./covid/COVID-1841.png', 0),\n",
              " ('./covid/COVID-1842.png', 0),\n",
              " ('./covid/COVID-1843.png', 0),\n",
              " ('./covid/COVID-1844.png', 0),\n",
              " ('./covid/COVID-1845.png', 0),\n",
              " ('./covid/COVID-1846.png', 0),\n",
              " ('./covid/COVID-1847.png', 0),\n",
              " ('./covid/COVID-1848.png', 0),\n",
              " ('./covid/COVID-1849.png', 0),\n",
              " ('./covid/COVID-185.png', 0),\n",
              " ('./covid/COVID-1850.png', 0),\n",
              " ('./covid/COVID-1851.png', 0),\n",
              " ('./covid/COVID-1852.png', 0),\n",
              " ('./covid/COVID-1853.png', 0),\n",
              " ('./covid/COVID-1854.png', 0),\n",
              " ('./covid/COVID-1855.png', 0),\n",
              " ('./covid/COVID-1856.png', 0),\n",
              " ('./covid/COVID-1857.png', 0),\n",
              " ('./covid/COVID-1858.png', 0),\n",
              " ('./covid/COVID-1859.png', 0),\n",
              " ('./covid/COVID-186.png', 0),\n",
              " ('./covid/COVID-1860.png', 0),\n",
              " ('./covid/COVID-1861.png', 0),\n",
              " ('./covid/COVID-1862.png', 0),\n",
              " ('./covid/COVID-1863.png', 0),\n",
              " ('./covid/COVID-1864.png', 0),\n",
              " ('./covid/COVID-1865.png', 0),\n",
              " ('./covid/COVID-1866.png', 0),\n",
              " ('./covid/COVID-1867.png', 0),\n",
              " ('./covid/COVID-1868.png', 0),\n",
              " ('./covid/COVID-1869.png', 0),\n",
              " ('./covid/COVID-187.png', 0),\n",
              " ('./covid/COVID-1870.png', 0),\n",
              " ('./covid/COVID-1871.png', 0),\n",
              " ('./covid/COVID-1872.png', 0),\n",
              " ('./covid/COVID-1873.png', 0),\n",
              " ('./covid/COVID-1874.png', 0),\n",
              " ('./covid/COVID-1875.png', 0),\n",
              " ('./covid/COVID-1876.png', 0),\n",
              " ('./covid/COVID-1877.png', 0),\n",
              " ('./covid/COVID-1878.png', 0),\n",
              " ('./covid/COVID-1879.png', 0),\n",
              " ('./covid/COVID-188.png', 0),\n",
              " ('./covid/COVID-1880.png', 0),\n",
              " ('./covid/COVID-1881.png', 0),\n",
              " ('./covid/COVID-1882.png', 0),\n",
              " ('./covid/COVID-1883.png', 0),\n",
              " ('./covid/COVID-1884.png', 0),\n",
              " ('./covid/COVID-1885.png', 0),\n",
              " ('./covid/COVID-1886.png', 0),\n",
              " ('./covid/COVID-1887.png', 0),\n",
              " ('./covid/COVID-1888.png', 0),\n",
              " ('./covid/COVID-1889.png', 0),\n",
              " ('./covid/COVID-189.png', 0),\n",
              " ('./covid/COVID-1890.png', 0),\n",
              " ('./covid/COVID-1891.png', 0),\n",
              " ('./covid/COVID-1892.png', 0),\n",
              " ('./covid/COVID-1893.png', 0),\n",
              " ('./covid/COVID-1894.png', 0),\n",
              " ('./covid/COVID-1895.png', 0),\n",
              " ('./covid/COVID-1896.png', 0),\n",
              " ('./covid/COVID-1897.png', 0),\n",
              " ('./covid/COVID-1898.png', 0),\n",
              " ('./covid/COVID-1899.png', 0),\n",
              " ...]"
            ]
          },
          "metadata": {
            "tags": []
          },
          "execution_count": 29
        }
      ]
    },
    {
      "cell_type": "markdown",
      "metadata": {
        "id": "RSyTzZT5KvHB"
      },
      "source": [
        "# **Criação do Data Set**"
      ]
    },
    {
      "cell_type": "code",
      "metadata": {
        "id": "0ONB-cwBEV8g"
      },
      "source": [
        "from torch.utils.data import Dataset\n",
        "\n",
        "from typing import Any,Tuple\n",
        "\n",
        "class PulmoesDataset(Dataset):\n",
        "    def __init__(self,dir,transform=None,target_transform=None,loader = None):\n",
        "        self.main_dir = dir\n",
        "        self.transform = transform\n",
        "        self.target_transform = target_transform\n",
        "        self.classes = [d.name for d in os.scandir(dir) if d.is_dir()]\n",
        "        self.classes.sort()\n",
        "        self.class_to_idx = {cls_name: i for i, cls_name in enumerate(self.classes)}\n",
        "        self.instances = self.make_instances()\n",
        "        self.loader = loader\n",
        "        if loader is None:\n",
        "            self.loader = lambda x: Image.open(x).convert('RGB')\n",
        "\n",
        "    def make_instances(self):\n",
        "        instances = []\n",
        "        for target_class in sorted(self.class_to_idx.keys()):\n",
        "                class_index = self.class_to_idx[target_class]\n",
        "                target_dir = os.path.join(self.main_dir, target_class)\n",
        "                for root, _, fnames in sorted(os.walk(target_dir, followlinks=True)):\n",
        "                    for fname in sorted(fnames):\n",
        "                        path = os.path.join(root, fname)\n",
        "                        item = path, class_index\n",
        "                        instances.append(item)\n",
        "        return instances\n",
        "    def __getitem__(self,index:int) -> Tuple[Any,Any]:\n",
        "        path, target = self.instances[index] #path, target = atributo classe\n",
        "        instance = self.loader(path)\n",
        "        if self.transform is not None:\n",
        "            instance = self.transform(instance)\n",
        "        if self.target_transform is not None:\n",
        "            target = self.target_transform(target)\n",
        "        return instance,target\n",
        "    def __len__(self) -> int:\n",
        "        return len(self.instances)"
      ],
      "execution_count": null,
      "outputs": []
    },
    {
      "cell_type": "code",
      "metadata": {
        "id": "po1b5pCnEZBW"
      },
      "source": [
        "dataset = PulmoesDataset('./',transform=transform)"
      ],
      "execution_count": null,
      "outputs": []
    },
    {
      "cell_type": "code",
      "metadata": {
        "colab": {
          "base_uri": "https://localhost:8080/"
        },
        "id": "v-jq49iREarM",
        "outputId": "685c24e1-68ae-443e-e353-7bd1fc9abac2"
      },
      "source": [
        "len(dataset)"
      ],
      "execution_count": null,
      "outputs": [
        {
          "output_type": "execute_result",
          "data": {
            "text/plain": [
              "21165"
            ]
          },
          "metadata": {
            "tags": []
          },
          "execution_count": 32
        }
      ]
    },
    {
      "cell_type": "code",
      "metadata": {
        "id": "vHTvgTH6Eb33"
      },
      "source": [
        "dl = DataLoader(dataset,batch_size=1024)"
      ],
      "execution_count": null,
      "outputs": []
    },
    {
      "cell_type": "code",
      "metadata": {
        "id": "mMh6nvMgEdHU"
      },
      "source": [
        "data,class_att = next(iter(dl))"
      ],
      "execution_count": null,
      "outputs": []
    },
    {
      "cell_type": "code",
      "metadata": {
        "colab": {
          "base_uri": "https://localhost:8080/"
        },
        "id": "ud8Z3jQgEeap",
        "outputId": "db1b82cd-3faa-4263-f6f5-b05a679fac35"
      },
      "source": [
        "data.shape"
      ],
      "execution_count": null,
      "outputs": [
        {
          "output_type": "execute_result",
          "data": {
            "text/plain": [
              "torch.Size([1024, 3, 50, 50])"
            ]
          },
          "metadata": {
            "tags": []
          },
          "execution_count": 35
        }
      ]
    },
    {
      "cell_type": "code",
      "metadata": {
        "colab": {
          "base_uri": "https://localhost:8080/"
        },
        "id": "A1JQphx0FQx9",
        "outputId": "b671e39f-4872-4028-ea85-67cc6c582456"
      },
      "source": [
        "class_att.shape"
      ],
      "execution_count": null,
      "outputs": [
        {
          "output_type": "execute_result",
          "data": {
            "text/plain": [
              "torch.Size([1024])"
            ]
          },
          "metadata": {
            "tags": []
          },
          "execution_count": 36
        }
      ]
    },
    {
      "cell_type": "code",
      "metadata": {
        "id": "NgcY_ZyoFSNu"
      },
      "source": [
        "grid_img = torchvision.utils.make_grid(data,nrow=45)"
      ],
      "execution_count": null,
      "outputs": []
    },
    {
      "cell_type": "code",
      "metadata": {
        "colab": {
          "base_uri": "https://localhost:8080/",
          "height": 257
        },
        "id": "JOVX3ngmFToX",
        "outputId": "1526214c-bb99-483e-9c08-198d216774a3"
      },
      "source": [
        "plt.imshow(grid_img.permute(1,2,0))"
      ],
      "execution_count": null,
      "outputs": [
        {
          "output_type": "stream",
          "text": [
            "Clipping input data to the valid range for imshow with RGB data ([0..1] for floats or [0..255] for integers).\n"
          ],
          "name": "stderr"
        },
        {
          "output_type": "execute_result",
          "data": {
            "text/plain": [
              "<matplotlib.image.AxesImage at 0x7fe7f57674d0>"
            ]
          },
          "metadata": {
            "tags": []
          },
          "execution_count": 38
        },
        {
          "output_type": "display_data",
          "data": {
            "image/png": "[encoded data removed]",
            "text/plain": [
              "<Figure size 432x288 with 1 Axes>"
            ]
          },
          "metadata": {
            "tags": [],
            "needs_background": "light"
          }
        }
      ]
    },
    {
      "cell_type": "markdown",
      "metadata": {
        "id": "y_uTwra0K_4L"
      },
      "source": [
        "# **Criação e Ajuste Fino do Modelo Shufflenet v2 x0.5**"
      ]
    },
    {
      "cell_type": "code",
      "metadata": {
        "colab": {
          "base_uri": "https://localhost:8080/",
          "height": 103,
          "referenced_widgets": [
            "971b8fc145154c2aaaf49d2a12105151",
            "b77d9aa81a3a412b84025334df71c4ce",
            "04005074fa0b4beca68e685a8861b15b",
            "7959faecd9df4164b5729d3ce9430437",
            "7998a362c5174bb18e2eb6e06a6f9b1f",
            "60a38c94b03d40f8ae0bb8c92a361753",
            "97153d42a6d4413ea9916bbc21ac8b18",
            "1155788101664a2dadf5b486c315a5f3"
          ]
        },
        "id": "MbYTNfodFU5O",
        "outputId": "82d32a7f-9dfe-497f-b092-d8ed53a51239"
      },
      "source": [
        "model = torchvision.models.shufflenet_v2_x0_5(pretrained=True)"
      ],
      "execution_count": null,
      "outputs": [
        {
          "output_type": "stream",
          "text": [
            "Downloading: \"https://download.pytorch.org/models/shufflenetv2_x0.5-f707e7126e.pth\" to /root/.cache/torch/hub/checkpoints/shufflenetv2_x0.5-f707e7126e.pth\n"
          ],
          "name": "stderr"
        },
        {
          "output_type": "display_data",
          "data": {
            "application/vnd.jupyter.widget-view+json": {
              "model_id": "971b8fc145154c2aaaf49d2a12105151",
              "version_minor": 0,
              "version_major": 2
            },
            "text/plain": [
              "HBox(children=(FloatProgress(value=0.0, max=5538128.0), HTML(value='')))"
            ]
          },
          "metadata": {
            "tags": []
          }
        },
        {
          "output_type": "stream",
          "text": [
            "\n"
          ],
          "name": "stdout"
        }
      ]
    },
    {
      "cell_type": "code",
      "metadata": {
        "id": "afkJOAv6FYW5"
      },
      "source": [
        "model.fc = nn.Linear(1024, 4)"
      ],
      "execution_count": null,
      "outputs": []
    },
    {
      "cell_type": "code",
      "metadata": {
        "colab": {
          "base_uri": "https://localhost:8080/"
        },
        "id": "2C38MjnTFcBK",
        "outputId": "300f8c2e-530c-4bcf-d137-fa980e5cfea1"
      },
      "source": [
        "model"
      ],
      "execution_count": null,
      "outputs": [
        {
          "output_type": "execute_result",
          "data": {
            "text/plain": [
              "ShuffleNetV2(\n",
              "  (conv1): Sequential(\n",
              "    (0): Conv2d(3, 24, kernel_size=(3, 3), stride=(2, 2), padding=(1, 1), bias=False)\n",
              "    (1): BatchNorm2d(24, eps=1e-05, momentum=0.1, affine=True, track_running_stats=True)\n",
              "    (2): ReLU(inplace=True)\n",
              "  )\n",
              "  (maxpool): MaxPool2d(kernel_size=3, stride=2, padding=1, dilation=1, ceil_mode=False)\n",
              "  (stage2): Sequential(\n",
              "    (0): InvertedResidual(\n",
              "      (branch1): Sequential(\n",
              "        (0): Conv2d(24, 24, kernel_size=(3, 3), stride=(2, 2), padding=(1, 1), groups=24, bias=False)\n",
              "        (1): BatchNorm2d(24, eps=1e-05, momentum=0.1, affine=True, track_running_stats=True)\n",
              "        (2): Conv2d(24, 24, kernel_size=(1, 1), stride=(1, 1), bias=False)\n",
              "        (3): BatchNorm2d(24, eps=1e-05, momentum=0.1, affine=True, track_running_stats=True)\n",
              "        (4): ReLU(inplace=True)\n",
              "      )\n",
              "      (branch2): Sequential(\n",
              "        (0): Conv2d(24, 24, kernel_size=(1, 1), stride=(1, 1), bias=False)\n",
              "        (1): BatchNorm2d(24, eps=1e-05, momentum=0.1, affine=True, track_running_stats=True)\n",
              "        (2): ReLU(inplace=True)\n",
              "        (3): Conv2d(24, 24, kernel_size=(3, 3), stride=(2, 2), padding=(1, 1), groups=24, bias=False)\n",
              "        (4): BatchNorm2d(24, eps=1e-05, momentum=0.1, affine=True, track_running_stats=True)\n",
              "        (5): Conv2d(24, 24, kernel_size=(1, 1), stride=(1, 1), bias=False)\n",
              "        (6): BatchNorm2d(24, eps=1e-05, momentum=0.1, affine=True, track_running_stats=True)\n",
              "        (7): ReLU(inplace=True)\n",
              "      )\n",
              "    )\n",
              "    (1): InvertedResidual(\n",
              "      (branch1): Sequential()\n",
              "      (branch2): Sequential(\n",
              "        (0): Conv2d(24, 24, kernel_size=(1, 1), stride=(1, 1), bias=False)\n",
              "        (1): BatchNorm2d(24, eps=1e-05, momentum=0.1, affine=True, track_running_stats=True)\n",
              "        (2): ReLU(inplace=True)\n",
              "        (3): Conv2d(24, 24, kernel_size=(3, 3), stride=(1, 1), padding=(1, 1), groups=24, bias=False)\n",
              "        (4): BatchNorm2d(24, eps=1e-05, momentum=0.1, affine=True, track_running_stats=True)\n",
              "        (5): Conv2d(24, 24, kernel_size=(1, 1), stride=(1, 1), bias=False)\n",
              "        (6): BatchNorm2d(24, eps=1e-05, momentum=0.1, affine=True, track_running_stats=True)\n",
              "        (7): ReLU(inplace=True)\n",
              "      )\n",
              "    )\n",
              "    (2): InvertedResidual(\n",
              "      (branch1): Sequential()\n",
              "      (branch2): Sequential(\n",
              "        (0): Conv2d(24, 24, kernel_size=(1, 1), stride=(1, 1), bias=False)\n",
              "        (1): BatchNorm2d(24, eps=1e-05, momentum=0.1, affine=True, track_running_stats=True)\n",
              "        (2): ReLU(inplace=True)\n",
              "        (3): Conv2d(24, 24, kernel_size=(3, 3), stride=(1, 1), padding=(1, 1), groups=24, bias=False)\n",
              "        (4): BatchNorm2d(24, eps=1e-05, momentum=0.1, affine=True, track_running_stats=True)\n",
              "        (5): Conv2d(24, 24, kernel_size=(1, 1), stride=(1, 1), bias=False)\n",
              "        (6): BatchNorm2d(24, eps=1e-05, momentum=0.1, affine=True, track_running_stats=True)\n",
              "        (7): ReLU(inplace=True)\n",
              "      )\n",
              "    )\n",
              "    (3): InvertedResidual(\n",
              "      (branch1): Sequential()\n",
              "      (branch2): Sequential(\n",
              "        (0): Conv2d(24, 24, kernel_size=(1, 1), stride=(1, 1), bias=False)\n",
              "        (1): BatchNorm2d(24, eps=1e-05, momentum=0.1, affine=True, track_running_stats=True)\n",
              "        (2): ReLU(inplace=True)\n",
              "        (3): Conv2d(24, 24, kernel_size=(3, 3), stride=(1, 1), padding=(1, 1), groups=24, bias=False)\n",
              "        (4): BatchNorm2d(24, eps=1e-05, momentum=0.1, affine=True, track_running_stats=True)\n",
              "        (5): Conv2d(24, 24, kernel_size=(1, 1), stride=(1, 1), bias=False)\n",
              "        (6): BatchNorm2d(24, eps=1e-05, momentum=0.1, affine=True, track_running_stats=True)\n",
              "        (7): ReLU(inplace=True)\n",
              "      )\n",
              "    )\n",
              "  )\n",
              "  (stage3): Sequential(\n",
              "    (0): InvertedResidual(\n",
              "      (branch1): Sequential(\n",
              "        (0): Conv2d(48, 48, kernel_size=(3, 3), stride=(2, 2), padding=(1, 1), groups=48, bias=False)\n",
              "        (1): BatchNorm2d(48, eps=1e-05, momentum=0.1, affine=True, track_running_stats=True)\n",
              "        (2): Conv2d(48, 48, kernel_size=(1, 1), stride=(1, 1), bias=False)\n",
              "        (3): BatchNorm2d(48, eps=1e-05, momentum=0.1, affine=True, track_running_stats=True)\n",
              "        (4): ReLU(inplace=True)\n",
              "      )\n",
              "      (branch2): Sequential(\n",
              "        (0): Conv2d(48, 48, kernel_size=(1, 1), stride=(1, 1), bias=False)\n",
              "        (1): BatchNorm2d(48, eps=1e-05, momentum=0.1, affine=True, track_running_stats=True)\n",
              "        (2): ReLU(inplace=True)\n",
              "        (3): Conv2d(48, 48, kernel_size=(3, 3), stride=(2, 2), padding=(1, 1), groups=48, bias=False)\n",
              "        (4): BatchNorm2d(48, eps=1e-05, momentum=0.1, affine=True, track_running_stats=True)\n",
              "        (5): Conv2d(48, 48, kernel_size=(1, 1), stride=(1, 1), bias=False)\n",
              "        (6): BatchNorm2d(48, eps=1e-05, momentum=0.1, affine=True, track_running_stats=True)\n",
              "        (7): ReLU(inplace=True)\n",
              "      )\n",
              "    )\n",
              "    (1): InvertedResidual(\n",
              "      (branch1): Sequential()\n",
              "      (branch2): Sequential(\n",
              "        (0): Conv2d(48, 48, kernel_size=(1, 1), stride=(1, 1), bias=False)\n",
              "        (1): BatchNorm2d(48, eps=1e-05, momentum=0.1, affine=True, track_running_stats=True)\n",
              "        (2): ReLU(inplace=True)\n",
              "        (3): Conv2d(48, 48, kernel_size=(3, 3), stride=(1, 1), padding=(1, 1), groups=48, bias=False)\n",
              "        (4): BatchNorm2d(48, eps=1e-05, momentum=0.1, affine=True, track_running_stats=True)\n",
              "        (5): Conv2d(48, 48, kernel_size=(1, 1), stride=(1, 1), bias=False)\n",
              "        (6): BatchNorm2d(48, eps=1e-05, momentum=0.1, affine=True, track_running_stats=True)\n",
              "        (7): ReLU(inplace=True)\n",
              "      )\n",
              "    )\n",
              "    (2): InvertedResidual(\n",
              "      (branch1): Sequential()\n",
              "      (branch2): Sequential(\n",
              "        (0): Conv2d(48, 48, kernel_size=(1, 1), stride=(1, 1), bias=False)\n",
              "        (1): BatchNorm2d(48, eps=1e-05, momentum=0.1, affine=True, track_running_stats=True)\n",
              "        (2): ReLU(inplace=True)\n",
              "        (3): Conv2d(48, 48, kernel_size=(3, 3), stride=(1, 1), padding=(1, 1), groups=48, bias=False)\n",
              "        (4): BatchNorm2d(48, eps=1e-05, momentum=0.1, affine=True, track_running_stats=True)\n",
              "        (5): Conv2d(48, 48, kernel_size=(1, 1), stride=(1, 1), bias=False)\n",
              "        (6): BatchNorm2d(48, eps=1e-05, momentum=0.1, affine=True, track_running_stats=True)\n",
              "        (7): ReLU(inplace=True)\n",
              "      )\n",
              "    )\n",
              "    (3): InvertedResidual(\n",
              "      (branch1): Sequential()\n",
              "      (branch2): Sequential(\n",
              "        (0): Conv2d(48, 48, kernel_size=(1, 1), stride=(1, 1), bias=False)\n",
              "        (1): BatchNorm2d(48, eps=1e-05, momentum=0.1, affine=True, track_running_stats=True)\n",
              "        (2): ReLU(inplace=True)\n",
              "        (3): Conv2d(48, 48, kernel_size=(3, 3), stride=(1, 1), padding=(1, 1), groups=48, bias=False)\n",
              "        (4): BatchNorm2d(48, eps=1e-05, momentum=0.1, affine=True, track_running_stats=True)\n",
              "        (5): Conv2d(48, 48, kernel_size=(1, 1), stride=(1, 1), bias=False)\n",
              "        (6): BatchNorm2d(48, eps=1e-05, momentum=0.1, affine=True, track_running_stats=True)\n",
              "        (7): ReLU(inplace=True)\n",
              "      )\n",
              "    )\n",
              "    (4): InvertedResidual(\n",
              "      (branch1): Sequential()\n",
              "      (branch2): Sequential(\n",
              "        (0): Conv2d(48, 48, kernel_size=(1, 1), stride=(1, 1), bias=False)\n",
              "        (1): BatchNorm2d(48, eps=1e-05, momentum=0.1, affine=True, track_running_stats=True)\n",
              "        (2): ReLU(inplace=True)\n",
              "        (3): Conv2d(48, 48, kernel_size=(3, 3), stride=(1, 1), padding=(1, 1), groups=48, bias=False)\n",
              "        (4): BatchNorm2d(48, eps=1e-05, momentum=0.1, affine=True, track_running_stats=True)\n",
              "        (5): Conv2d(48, 48, kernel_size=(1, 1), stride=(1, 1), bias=False)\n",
              "        (6): BatchNorm2d(48, eps=1e-05, momentum=0.1, affine=True, track_running_stats=True)\n",
              "        (7): ReLU(inplace=True)\n",
              "      )\n",
              "    )\n",
              "    (5): InvertedResidual(\n",
              "      (branch1): Sequential()\n",
              "      (branch2): Sequential(\n",
              "        (0): Conv2d(48, 48, kernel_size=(1, 1), stride=(1, 1), bias=False)\n",
              "        (1): BatchNorm2d(48, eps=1e-05, momentum=0.1, affine=True, track_running_stats=True)\n",
              "        (2): ReLU(inplace=True)\n",
              "        (3): Conv2d(48, 48, kernel_size=(3, 3), stride=(1, 1), padding=(1, 1), groups=48, bias=False)\n",
              "        (4): BatchNorm2d(48, eps=1e-05, momentum=0.1, affine=True, track_running_stats=True)\n",
              "        (5): Conv2d(48, 48, kernel_size=(1, 1), stride=(1, 1), bias=False)\n",
              "        (6): BatchNorm2d(48, eps=1e-05, momentum=0.1, affine=True, track_running_stats=True)\n",
              "        (7): ReLU(inplace=True)\n",
              "      )\n",
              "    )\n",
              "    (6): InvertedResidual(\n",
              "      (branch1): Sequential()\n",
              "      (branch2): Sequential(\n",
              "        (0): Conv2d(48, 48, kernel_size=(1, 1), stride=(1, 1), bias=False)\n",
              "        (1): BatchNorm2d(48, eps=1e-05, momentum=0.1, affine=True, track_running_stats=True)\n",
              "        (2): ReLU(inplace=True)\n",
              "        (3): Conv2d(48, 48, kernel_size=(3, 3), stride=(1, 1), padding=(1, 1), groups=48, bias=False)\n",
              "        (4): BatchNorm2d(48, eps=1e-05, momentum=0.1, affine=True, track_running_stats=True)\n",
              "        (5): Conv2d(48, 48, kernel_size=(1, 1), stride=(1, 1), bias=False)\n",
              "        (6): BatchNorm2d(48, eps=1e-05, momentum=0.1, affine=True, track_running_stats=True)\n",
              "        (7): ReLU(inplace=True)\n",
              "      )\n",
              "    )\n",
              "    (7): InvertedResidual(\n",
              "      (branch1): Sequential()\n",
              "      (branch2): Sequential(\n",
              "        (0): Conv2d(48, 48, kernel_size=(1, 1), stride=(1, 1), bias=False)\n",
              "        (1): BatchNorm2d(48, eps=1e-05, momentum=0.1, affine=True, track_running_stats=True)\n",
              "        (2): ReLU(inplace=True)\n",
              "        (3): Conv2d(48, 48, kernel_size=(3, 3), stride=(1, 1), padding=(1, 1), groups=48, bias=False)\n",
              "        (4): BatchNorm2d(48, eps=1e-05, momentum=0.1, affine=True, track_running_stats=True)\n",
              "        (5): Conv2d(48, 48, kernel_size=(1, 1), stride=(1, 1), bias=False)\n",
              "        (6): BatchNorm2d(48, eps=1e-05, momentum=0.1, affine=True, track_running_stats=True)\n",
              "        (7): ReLU(inplace=True)\n",
              "      )\n",
              "    )\n",
              "  )\n",
              "  (stage4): Sequential(\n",
              "    (0): InvertedResidual(\n",
              "      (branch1): Sequential(\n",
              "        (0): Conv2d(96, 96, kernel_size=(3, 3), stride=(2, 2), padding=(1, 1), groups=96, bias=False)\n",
              "        (1): BatchNorm2d(96, eps=1e-05, momentum=0.1, affine=True, track_running_stats=True)\n",
              "        (2): Conv2d(96, 96, kernel_size=(1, 1), stride=(1, 1), bias=False)\n",
              "        (3): BatchNorm2d(96, eps=1e-05, momentum=0.1, affine=True, track_running_stats=True)\n",
              "        (4): ReLU(inplace=True)\n",
              "      )\n",
              "      (branch2): Sequential(\n",
              "        (0): Conv2d(96, 96, kernel_size=(1, 1), stride=(1, 1), bias=False)\n",
              "        (1): BatchNorm2d(96, eps=1e-05, momentum=0.1, affine=True, track_running_stats=True)\n",
              "        (2): ReLU(inplace=True)\n",
              "        (3): Conv2d(96, 96, kernel_size=(3, 3), stride=(2, 2), padding=(1, 1), groups=96, bias=False)\n",
              "        (4): BatchNorm2d(96, eps=1e-05, momentum=0.1, affine=True, track_running_stats=True)\n",
              "        (5): Conv2d(96, 96, kernel_size=(1, 1), stride=(1, 1), bias=False)\n",
              "        (6): BatchNorm2d(96, eps=1e-05, momentum=0.1, affine=True, track_running_stats=True)\n",
              "        (7): ReLU(inplace=True)\n",
              "      )\n",
              "    )\n",
              "    (1): InvertedResidual(\n",
              "      (branch1): Sequential()\n",
              "      (branch2): Sequential(\n",
              "        (0): Conv2d(96, 96, kernel_size=(1, 1), stride=(1, 1), bias=False)\n",
              "        (1): BatchNorm2d(96, eps=1e-05, momentum=0.1, affine=True, track_running_stats=True)\n",
              "        (2): ReLU(inplace=True)\n",
              "        (3): Conv2d(96, 96, kernel_size=(3, 3), stride=(1, 1), padding=(1, 1), groups=96, bias=False)\n",
              "        (4): BatchNorm2d(96, eps=1e-05, momentum=0.1, affine=True, track_running_stats=True)\n",
              "        (5): Conv2d(96, 96, kernel_size=(1, 1), stride=(1, 1), bias=False)\n",
              "        (6): BatchNorm2d(96, eps=1e-05, momentum=0.1, affine=True, track_running_stats=True)\n",
              "        (7): ReLU(inplace=True)\n",
              "      )\n",
              "    )\n",
              "    (2): InvertedResidual(\n",
              "      (branch1): Sequential()\n",
              "      (branch2): Sequential(\n",
              "        (0): Conv2d(96, 96, kernel_size=(1, 1), stride=(1, 1), bias=False)\n",
              "        (1): BatchNorm2d(96, eps=1e-05, momentum=0.1, affine=True, track_running_stats=True)\n",
              "        (2): ReLU(inplace=True)\n",
              "        (3): Conv2d(96, 96, kernel_size=(3, 3), stride=(1, 1), padding=(1, 1), groups=96, bias=False)\n",
              "        (4): BatchNorm2d(96, eps=1e-05, momentum=0.1, affine=True, track_running_stats=True)\n",
              "        (5): Conv2d(96, 96, kernel_size=(1, 1), stride=(1, 1), bias=False)\n",
              "        (6): BatchNorm2d(96, eps=1e-05, momentum=0.1, affine=True, track_running_stats=True)\n",
              "        (7): ReLU(inplace=True)\n",
              "      )\n",
              "    )\n",
              "    (3): InvertedResidual(\n",
              "      (branch1): Sequential()\n",
              "      (branch2): Sequential(\n",
              "        (0): Conv2d(96, 96, kernel_size=(1, 1), stride=(1, 1), bias=False)\n",
              "        (1): BatchNorm2d(96, eps=1e-05, momentum=0.1, affine=True, track_running_stats=True)\n",
              "        (2): ReLU(inplace=True)\n",
              "        (3): Conv2d(96, 96, kernel_size=(3, 3), stride=(1, 1), padding=(1, 1), groups=96, bias=False)\n",
              "        (4): BatchNorm2d(96, eps=1e-05, momentum=0.1, affine=True, track_running_stats=True)\n",
              "        (5): Conv2d(96, 96, kernel_size=(1, 1), stride=(1, 1), bias=False)\n",
              "        (6): BatchNorm2d(96, eps=1e-05, momentum=0.1, affine=True, track_running_stats=True)\n",
              "        (7): ReLU(inplace=True)\n",
              "      )\n",
              "    )\n",
              "  )\n",
              "  (conv5): Sequential(\n",
              "    (0): Conv2d(192, 1024, kernel_size=(1, 1), stride=(1, 1), bias=False)\n",
              "    (1): BatchNorm2d(1024, eps=1e-05, momentum=0.1, affine=True, track_running_stats=True)\n",
              "    (2): ReLU(inplace=True)\n",
              "  )\n",
              "  (fc): Linear(in_features=1024, out_features=4, bias=True)\n",
              ")"
            ]
          },
          "metadata": {
            "tags": []
          },
          "execution_count": 41
        }
      ]
    },
    {
      "cell_type": "markdown",
      "metadata": {
        "id": "9yKBrp6dLV45"
      },
      "source": [
        "# **Split**"
      ]
    },
    {
      "cell_type": "code",
      "metadata": {
        "id": "oWMT4n7dFedP"
      },
      "source": [
        "from sklearn.model_selection import train_test_split\n",
        "import numpy as np"
      ],
      "execution_count": null,
      "outputs": []
    },
    {
      "cell_type": "code",
      "metadata": {
        "id": "xToqKkBEFhhY"
      },
      "source": [
        "#Tentei fazer com stratify, mas demorou 1h para executar e retornou o seguinte erro:\n",
        "#ValueError: only one element tensors can be converted to Python scalars\n",
        "#como as classes são suficientemente grandes, consegui obter uma boa taxa de aprendizagem mesmo sem stratify\n",
        "train_idx, temp_idx = train_test_split(np.arange(len(dataset)),test_size=0.3,shuffle=True)"
      ],
      "execution_count": null,
      "outputs": []
    },
    {
      "cell_type": "code",
      "metadata": {
        "colab": {
          "base_uri": "https://localhost:8080/"
        },
        "id": "STw6dnfJFjL6",
        "outputId": "ce99ac66-4953-4829-b17c-f10603cf765a"
      },
      "source": [
        "len(train_idx),len(temp_idx)"
      ],
      "execution_count": null,
      "outputs": [
        {
          "output_type": "execute_result",
          "data": {
            "text/plain": [
              "(14815, 6350)"
            ]
          },
          "metadata": {
            "tags": []
          },
          "execution_count": 44
        }
      ]
    },
    {
      "cell_type": "code",
      "metadata": {
        "id": "UJD4ZevsFkm3"
      },
      "source": [
        "valid_idx, test_idx = train_test_split(temp_idx,test_size=0.5,shuffle=True)"
      ],
      "execution_count": null,
      "outputs": []
    },
    {
      "cell_type": "code",
      "metadata": {
        "colab": {
          "base_uri": "https://localhost:8080/"
        },
        "id": "StfkvLHLFmDL",
        "outputId": "c9a8e97e-a264-4001-fa9d-d2db9d1bdd0b"
      },
      "source": [
        "len(valid_idx),len(test_idx)"
      ],
      "execution_count": null,
      "outputs": [
        {
          "output_type": "execute_result",
          "data": {
            "text/plain": [
              "(3175, 3175)"
            ]
          },
          "metadata": {
            "tags": []
          },
          "execution_count": 46
        }
      ]
    },
    {
      "cell_type": "code",
      "metadata": {
        "colab": {
          "base_uri": "https://localhost:8080/"
        },
        "id": "ZQNLuiVGFnmD",
        "outputId": "ce548007-60f3-4259-fcbb-b69b7f9a1278"
      },
      "source": [
        "valid_idx"
      ],
      "execution_count": null,
      "outputs": [
        {
          "output_type": "execute_result",
          "data": {
            "text/plain": [
              "array([  896, 16245,  5301, ...,   311,  6334, 18040])"
            ]
          },
          "metadata": {
            "tags": []
          },
          "execution_count": 47
        }
      ]
    },
    {
      "cell_type": "code",
      "metadata": {
        "id": "l7XNC_hBFpFL"
      },
      "source": [
        "bs = 1024\n",
        "train_sampler = torch.utils.data.SubsetRandomSampler(train_idx)\n",
        "valid_sampler = torch.utils.data.SubsetRandomSampler(valid_idx)\n",
        "test_sampler  = torch.utils.data.SubsetRandomSampler(test_idx)\n",
        "\n",
        "dl_train = torch.utils.data.DataLoader(dataset,batch_size=bs,sampler=train_sampler)\n",
        "dl_valid = torch.utils.data.DataLoader(dataset,batch_size=bs,sampler=valid_sampler)\n",
        "dl_test  = torch.utils.data.DataLoader(dataset,batch_size=bs,sampler=test_sampler)"
      ],
      "execution_count": null,
      "outputs": []
    },
    {
      "cell_type": "markdown",
      "metadata": {
        "id": "Xd29eGFgLamh"
      },
      "source": [
        "# **Otimização**"
      ]
    },
    {
      "cell_type": "code",
      "metadata": {
        "id": "RiTkvMwRFq7P"
      },
      "source": [
        "import torch.optim as optim"
      ],
      "execution_count": null,
      "outputs": []
    },
    {
      "cell_type": "code",
      "metadata": {
        "id": "PgiNTu0JFsyD"
      },
      "source": [
        "criterion = nn.CrossEntropyLoss()\n",
        "opt = optim.SGD(model.parameters(),lr=0.2)"
      ],
      "execution_count": null,
      "outputs": []
    },
    {
      "cell_type": "code",
      "metadata": {
        "id": "-qLVwC-vFuDm"
      },
      "source": [
        "device = torch.device('cuda:0') if torch.cuda.is_available() else torch.device('cpu')"
      ],
      "execution_count": null,
      "outputs": []
    },
    {
      "cell_type": "code",
      "metadata": {
        "colab": {
          "base_uri": "https://localhost:8080/"
        },
        "id": "P2jjwznAF_nZ",
        "outputId": "9f8b9342-9a65-4d7e-a94b-e67f83b07acc"
      },
      "source": [
        "device"
      ],
      "execution_count": null,
      "outputs": [
        {
          "output_type": "execute_result",
          "data": {
            "text/plain": [
              "device(type='cpu')"
            ]
          },
          "metadata": {
            "tags": []
          },
          "execution_count": 52
        }
      ]
    },
    {
      "cell_type": "code",
      "metadata": {
        "colab": {
          "base_uri": "https://localhost:8080/"
        },
        "id": "Di-FbV7dF_-g",
        "outputId": "5c8ed8ad-933d-4b55-8721-c1a094d31d02"
      },
      "source": [
        "model.to(device)"
      ],
      "execution_count": null,
      "outputs": [
        {
          "output_type": "execute_result",
          "data": {
            "text/plain": [
              "ShuffleNetV2(\n",
              "  (conv1): Sequential(\n",
              "    (0): Conv2d(3, 24, kernel_size=(3, 3), stride=(2, 2), padding=(1, 1), bias=False)\n",
              "    (1): BatchNorm2d(24, eps=1e-05, momentum=0.1, affine=True, track_running_stats=True)\n",
              "    (2): ReLU(inplace=True)\n",
              "  )\n",
              "  (maxpool): MaxPool2d(kernel_size=3, stride=2, padding=1, dilation=1, ceil_mode=False)\n",
              "  (stage2): Sequential(\n",
              "    (0): InvertedResidual(\n",
              "      (branch1): Sequential(\n",
              "        (0): Conv2d(24, 24, kernel_size=(3, 3), stride=(2, 2), padding=(1, 1), groups=24, bias=False)\n",
              "        (1): BatchNorm2d(24, eps=1e-05, momentum=0.1, affine=True, track_running_stats=True)\n",
              "        (2): Conv2d(24, 24, kernel_size=(1, 1), stride=(1, 1), bias=False)\n",
              "        (3): BatchNorm2d(24, eps=1e-05, momentum=0.1, affine=True, track_running_stats=True)\n",
              "        (4): ReLU(inplace=True)\n",
              "      )\n",
              "      (branch2): Sequential(\n",
              "        (0): Conv2d(24, 24, kernel_size=(1, 1), stride=(1, 1), bias=False)\n",
              "        (1): BatchNorm2d(24, eps=1e-05, momentum=0.1, affine=True, track_running_stats=True)\n",
              "        (2): ReLU(inplace=True)\n",
              "        (3): Conv2d(24, 24, kernel_size=(3, 3), stride=(2, 2), padding=(1, 1), groups=24, bias=False)\n",
              "        (4): BatchNorm2d(24, eps=1e-05, momentum=0.1, affine=True, track_running_stats=True)\n",
              "        (5): Conv2d(24, 24, kernel_size=(1, 1), stride=(1, 1), bias=False)\n",
              "        (6): BatchNorm2d(24, eps=1e-05, momentum=0.1, affine=True, track_running_stats=True)\n",
              "        (7): ReLU(inplace=True)\n",
              "      )\n",
              "    )\n",
              "    (1): InvertedResidual(\n",
              "      (branch1): Sequential()\n",
              "      (branch2): Sequential(\n",
              "        (0): Conv2d(24, 24, kernel_size=(1, 1), stride=(1, 1), bias=False)\n",
              "        (1): BatchNorm2d(24, eps=1e-05, momentum=0.1, affine=True, track_running_stats=True)\n",
              "        (2): ReLU(inplace=True)\n",
              "        (3): Conv2d(24, 24, kernel_size=(3, 3), stride=(1, 1), padding=(1, 1), groups=24, bias=False)\n",
              "        (4): BatchNorm2d(24, eps=1e-05, momentum=0.1, affine=True, track_running_stats=True)\n",
              "        (5): Conv2d(24, 24, kernel_size=(1, 1), stride=(1, 1), bias=False)\n",
              "        (6): BatchNorm2d(24, eps=1e-05, momentum=0.1, affine=True, track_running_stats=True)\n",
              "        (7): ReLU(inplace=True)\n",
              "      )\n",
              "    )\n",
              "    (2): InvertedResidual(\n",
              "      (branch1): Sequential()\n",
              "      (branch2): Sequential(\n",
              "        (0): Conv2d(24, 24, kernel_size=(1, 1), stride=(1, 1), bias=False)\n",
              "        (1): BatchNorm2d(24, eps=1e-05, momentum=0.1, affine=True, track_running_stats=True)\n",
              "        (2): ReLU(inplace=True)\n",
              "        (3): Conv2d(24, 24, kernel_size=(3, 3), stride=(1, 1), padding=(1, 1), groups=24, bias=False)\n",
              "        (4): BatchNorm2d(24, eps=1e-05, momentum=0.1, affine=True, track_running_stats=True)\n",
              "        (5): Conv2d(24, 24, kernel_size=(1, 1), stride=(1, 1), bias=False)\n",
              "        (6): BatchNorm2d(24, eps=1e-05, momentum=0.1, affine=True, track_running_stats=True)\n",
              "        (7): ReLU(inplace=True)\n",
              "      )\n",
              "    )\n",
              "    (3): InvertedResidual(\n",
              "      (branch1): Sequential()\n",
              "      (branch2): Sequential(\n",
              "        (0): Conv2d(24, 24, kernel_size=(1, 1), stride=(1, 1), bias=False)\n",
              "        (1): BatchNorm2d(24, eps=1e-05, momentum=0.1, affine=True, track_running_stats=True)\n",
              "        (2): ReLU(inplace=True)\n",
              "        (3): Conv2d(24, 24, kernel_size=(3, 3), stride=(1, 1), padding=(1, 1), groups=24, bias=False)\n",
              "        (4): BatchNorm2d(24, eps=1e-05, momentum=0.1, affine=True, track_running_stats=True)\n",
              "        (5): Conv2d(24, 24, kernel_size=(1, 1), stride=(1, 1), bias=False)\n",
              "        (6): BatchNorm2d(24, eps=1e-05, momentum=0.1, affine=True, track_running_stats=True)\n",
              "        (7): ReLU(inplace=True)\n",
              "      )\n",
              "    )\n",
              "  )\n",
              "  (stage3): Sequential(\n",
              "    (0): InvertedResidual(\n",
              "      (branch1): Sequential(\n",
              "        (0): Conv2d(48, 48, kernel_size=(3, 3), stride=(2, 2), padding=(1, 1), groups=48, bias=False)\n",
              "        (1): BatchNorm2d(48, eps=1e-05, momentum=0.1, affine=True, track_running_stats=True)\n",
              "        (2): Conv2d(48, 48, kernel_size=(1, 1), stride=(1, 1), bias=False)\n",
              "        (3): BatchNorm2d(48, eps=1e-05, momentum=0.1, affine=True, track_running_stats=True)\n",
              "        (4): ReLU(inplace=True)\n",
              "      )\n",
              "      (branch2): Sequential(\n",
              "        (0): Conv2d(48, 48, kernel_size=(1, 1), stride=(1, 1), bias=False)\n",
              "        (1): BatchNorm2d(48, eps=1e-05, momentum=0.1, affine=True, track_running_stats=True)\n",
              "        (2): ReLU(inplace=True)\n",
              "        (3): Conv2d(48, 48, kernel_size=(3, 3), stride=(2, 2), padding=(1, 1), groups=48, bias=False)\n",
              "        (4): BatchNorm2d(48, eps=1e-05, momentum=0.1, affine=True, track_running_stats=True)\n",
              "        (5): Conv2d(48, 48, kernel_size=(1, 1), stride=(1, 1), bias=False)\n",
              "        (6): BatchNorm2d(48, eps=1e-05, momentum=0.1, affine=True, track_running_stats=True)\n",
              "        (7): ReLU(inplace=True)\n",
              "      )\n",
              "    )\n",
              "    (1): InvertedResidual(\n",
              "      (branch1): Sequential()\n",
              "      (branch2): Sequential(\n",
              "        (0): Conv2d(48, 48, kernel_size=(1, 1), stride=(1, 1), bias=False)\n",
              "        (1): BatchNorm2d(48, eps=1e-05, momentum=0.1, affine=True, track_running_stats=True)\n",
              "        (2): ReLU(inplace=True)\n",
              "        (3): Conv2d(48, 48, kernel_size=(3, 3), stride=(1, 1), padding=(1, 1), groups=48, bias=False)\n",
              "        (4): BatchNorm2d(48, eps=1e-05, momentum=0.1, affine=True, track_running_stats=True)\n",
              "        (5): Conv2d(48, 48, kernel_size=(1, 1), stride=(1, 1), bias=False)\n",
              "        (6): BatchNorm2d(48, eps=1e-05, momentum=0.1, affine=True, track_running_stats=True)\n",
              "        (7): ReLU(inplace=True)\n",
              "      )\n",
              "    )\n",
              "    (2): InvertedResidual(\n",
              "      (branch1): Sequential()\n",
              "      (branch2): Sequential(\n",
              "        (0): Conv2d(48, 48, kernel_size=(1, 1), stride=(1, 1), bias=False)\n",
              "        (1): BatchNorm2d(48, eps=1e-05, momentum=0.1, affine=True, track_running_stats=True)\n",
              "        (2): ReLU(inplace=True)\n",
              "        (3): Conv2d(48, 48, kernel_size=(3, 3), stride=(1, 1), padding=(1, 1), groups=48, bias=False)\n",
              "        (4): BatchNorm2d(48, eps=1e-05, momentum=0.1, affine=True, track_running_stats=True)\n",
              "        (5): Conv2d(48, 48, kernel_size=(1, 1), stride=(1, 1), bias=False)\n",
              "        (6): BatchNorm2d(48, eps=1e-05, momentum=0.1, affine=True, track_running_stats=True)\n",
              "        (7): ReLU(inplace=True)\n",
              "      )\n",
              "    )\n",
              "    (3): InvertedResidual(\n",
              "      (branch1): Sequential()\n",
              "      (branch2): Sequential(\n",
              "        (0): Conv2d(48, 48, kernel_size=(1, 1), stride=(1, 1), bias=False)\n",
              "        (1): BatchNorm2d(48, eps=1e-05, momentum=0.1, affine=True, track_running_stats=True)\n",
              "        (2): ReLU(inplace=True)\n",
              "        (3): Conv2d(48, 48, kernel_size=(3, 3), stride=(1, 1), padding=(1, 1), groups=48, bias=False)\n",
              "        (4): BatchNorm2d(48, eps=1e-05, momentum=0.1, affine=True, track_running_stats=True)\n",
              "        (5): Conv2d(48, 48, kernel_size=(1, 1), stride=(1, 1), bias=False)\n",
              "        (6): BatchNorm2d(48, eps=1e-05, momentum=0.1, affine=True, track_running_stats=True)\n",
              "        (7): ReLU(inplace=True)\n",
              "      )\n",
              "    )\n",
              "    (4): InvertedResidual(\n",
              "      (branch1): Sequential()\n",
              "      (branch2): Sequential(\n",
              "        (0): Conv2d(48, 48, kernel_size=(1, 1), stride=(1, 1), bias=False)\n",
              "        (1): BatchNorm2d(48, eps=1e-05, momentum=0.1, affine=True, track_running_stats=True)\n",
              "        (2): ReLU(inplace=True)\n",
              "        (3): Conv2d(48, 48, kernel_size=(3, 3), stride=(1, 1), padding=(1, 1), groups=48, bias=False)\n",
              "        (4): BatchNorm2d(48, eps=1e-05, momentum=0.1, affine=True, track_running_stats=True)\n",
              "        (5): Conv2d(48, 48, kernel_size=(1, 1), stride=(1, 1), bias=False)\n",
              "        (6): BatchNorm2d(48, eps=1e-05, momentum=0.1, affine=True, track_running_stats=True)\n",
              "        (7): ReLU(inplace=True)\n",
              "      )\n",
              "    )\n",
              "    (5): InvertedResidual(\n",
              "      (branch1): Sequential()\n",
              "      (branch2): Sequential(\n",
              "        (0): Conv2d(48, 48, kernel_size=(1, 1), stride=(1, 1), bias=False)\n",
              "        (1): BatchNorm2d(48, eps=1e-05, momentum=0.1, affine=True, track_running_stats=True)\n",
              "        (2): ReLU(inplace=True)\n",
              "        (3): Conv2d(48, 48, kernel_size=(3, 3), stride=(1, 1), padding=(1, 1), groups=48, bias=False)\n",
              "        (4): BatchNorm2d(48, eps=1e-05, momentum=0.1, affine=True, track_running_stats=True)\n",
              "        (5): Conv2d(48, 48, kernel_size=(1, 1), stride=(1, 1), bias=False)\n",
              "        (6): BatchNorm2d(48, eps=1e-05, momentum=0.1, affine=True, track_running_stats=True)\n",
              "        (7): ReLU(inplace=True)\n",
              "      )\n",
              "    )\n",
              "    (6): InvertedResidual(\n",
              "      (branch1): Sequential()\n",
              "      (branch2): Sequential(\n",
              "        (0): Conv2d(48, 48, kernel_size=(1, 1), stride=(1, 1), bias=False)\n",
              "        (1): BatchNorm2d(48, eps=1e-05, momentum=0.1, affine=True, track_running_stats=True)\n",
              "        (2): ReLU(inplace=True)\n",
              "        (3): Conv2d(48, 48, kernel_size=(3, 3), stride=(1, 1), padding=(1, 1), groups=48, bias=False)\n",
              "        (4): BatchNorm2d(48, eps=1e-05, momentum=0.1, affine=True, track_running_stats=True)\n",
              "        (5): Conv2d(48, 48, kernel_size=(1, 1), stride=(1, 1), bias=False)\n",
              "        (6): BatchNorm2d(48, eps=1e-05, momentum=0.1, affine=True, track_running_stats=True)\n",
              "        (7): ReLU(inplace=True)\n",
              "      )\n",
              "    )\n",
              "    (7): InvertedResidual(\n",
              "      (branch1): Sequential()\n",
              "      (branch2): Sequential(\n",
              "        (0): Conv2d(48, 48, kernel_size=(1, 1), stride=(1, 1), bias=False)\n",
              "        (1): BatchNorm2d(48, eps=1e-05, momentum=0.1, affine=True, track_running_stats=True)\n",
              "        (2): ReLU(inplace=True)\n",
              "        (3): Conv2d(48, 48, kernel_size=(3, 3), stride=(1, 1), padding=(1, 1), groups=48, bias=False)\n",
              "        (4): BatchNorm2d(48, eps=1e-05, momentum=0.1, affine=True, track_running_stats=True)\n",
              "        (5): Conv2d(48, 48, kernel_size=(1, 1), stride=(1, 1), bias=False)\n",
              "        (6): BatchNorm2d(48, eps=1e-05, momentum=0.1, affine=True, track_running_stats=True)\n",
              "        (7): ReLU(inplace=True)\n",
              "      )\n",
              "    )\n",
              "  )\n",
              "  (stage4): Sequential(\n",
              "    (0): InvertedResidual(\n",
              "      (branch1): Sequential(\n",
              "        (0): Conv2d(96, 96, kernel_size=(3, 3), stride=(2, 2), padding=(1, 1), groups=96, bias=False)\n",
              "        (1): BatchNorm2d(96, eps=1e-05, momentum=0.1, affine=True, track_running_stats=True)\n",
              "        (2): Conv2d(96, 96, kernel_size=(1, 1), stride=(1, 1), bias=False)\n",
              "        (3): BatchNorm2d(96, eps=1e-05, momentum=0.1, affine=True, track_running_stats=True)\n",
              "        (4): ReLU(inplace=True)\n",
              "      )\n",
              "      (branch2): Sequential(\n",
              "        (0): Conv2d(96, 96, kernel_size=(1, 1), stride=(1, 1), bias=False)\n",
              "        (1): BatchNorm2d(96, eps=1e-05, momentum=0.1, affine=True, track_running_stats=True)\n",
              "        (2): ReLU(inplace=True)\n",
              "        (3): Conv2d(96, 96, kernel_size=(3, 3), stride=(2, 2), padding=(1, 1), groups=96, bias=False)\n",
              "        (4): BatchNorm2d(96, eps=1e-05, momentum=0.1, affine=True, track_running_stats=True)\n",
              "        (5): Conv2d(96, 96, kernel_size=(1, 1), stride=(1, 1), bias=False)\n",
              "        (6): BatchNorm2d(96, eps=1e-05, momentum=0.1, affine=True, track_running_stats=True)\n",
              "        (7): ReLU(inplace=True)\n",
              "      )\n",
              "    )\n",
              "    (1): InvertedResidual(\n",
              "      (branch1): Sequential()\n",
              "      (branch2): Sequential(\n",
              "        (0): Conv2d(96, 96, kernel_size=(1, 1), stride=(1, 1), bias=False)\n",
              "        (1): BatchNorm2d(96, eps=1e-05, momentum=0.1, affine=True, track_running_stats=True)\n",
              "        (2): ReLU(inplace=True)\n",
              "        (3): Conv2d(96, 96, kernel_size=(3, 3), stride=(1, 1), padding=(1, 1), groups=96, bias=False)\n",
              "        (4): BatchNorm2d(96, eps=1e-05, momentum=0.1, affine=True, track_running_stats=True)\n",
              "        (5): Conv2d(96, 96, kernel_size=(1, 1), stride=(1, 1), bias=False)\n",
              "        (6): BatchNorm2d(96, eps=1e-05, momentum=0.1, affine=True, track_running_stats=True)\n",
              "        (7): ReLU(inplace=True)\n",
              "      )\n",
              "    )\n",
              "    (2): InvertedResidual(\n",
              "      (branch1): Sequential()\n",
              "      (branch2): Sequential(\n",
              "        (0): Conv2d(96, 96, kernel_size=(1, 1), stride=(1, 1), bias=False)\n",
              "        (1): BatchNorm2d(96, eps=1e-05, momentum=0.1, affine=True, track_running_stats=True)\n",
              "        (2): ReLU(inplace=True)\n",
              "        (3): Conv2d(96, 96, kernel_size=(3, 3), stride=(1, 1), padding=(1, 1), groups=96, bias=False)\n",
              "        (4): BatchNorm2d(96, eps=1e-05, momentum=0.1, affine=True, track_running_stats=True)\n",
              "        (5): Conv2d(96, 96, kernel_size=(1, 1), stride=(1, 1), bias=False)\n",
              "        (6): BatchNorm2d(96, eps=1e-05, momentum=0.1, affine=True, track_running_stats=True)\n",
              "        (7): ReLU(inplace=True)\n",
              "      )\n",
              "    )\n",
              "    (3): InvertedResidual(\n",
              "      (branch1): Sequential()\n",
              "      (branch2): Sequential(\n",
              "        (0): Conv2d(96, 96, kernel_size=(1, 1), stride=(1, 1), bias=False)\n",
              "        (1): BatchNorm2d(96, eps=1e-05, momentum=0.1, affine=True, track_running_stats=True)\n",
              "        (2): ReLU(inplace=True)\n",
              "        (3): Conv2d(96, 96, kernel_size=(3, 3), stride=(1, 1), padding=(1, 1), groups=96, bias=False)\n",
              "        (4): BatchNorm2d(96, eps=1e-05, momentum=0.1, affine=True, track_running_stats=True)\n",
              "        (5): Conv2d(96, 96, kernel_size=(1, 1), stride=(1, 1), bias=False)\n",
              "        (6): BatchNorm2d(96, eps=1e-05, momentum=0.1, affine=True, track_running_stats=True)\n",
              "        (7): ReLU(inplace=True)\n",
              "      )\n",
              "    )\n",
              "  )\n",
              "  (conv5): Sequential(\n",
              "    (0): Conv2d(192, 1024, kernel_size=(1, 1), stride=(1, 1), bias=False)\n",
              "    (1): BatchNorm2d(1024, eps=1e-05, momentum=0.1, affine=True, track_running_stats=True)\n",
              "    (2): ReLU(inplace=True)\n",
              "  )\n",
              "  (fc): Linear(in_features=1024, out_features=4, bias=True)\n",
              ")"
            ]
          },
          "metadata": {
            "tags": []
          },
          "execution_count": 53
        }
      ]
    },
    {
      "cell_type": "markdown",
      "metadata": {
        "id": "jxNq_GfeLg9i"
      },
      "source": [
        "# **Treino**"
      ]
    },
    {
      "cell_type": "code",
      "metadata": {
        "id": "NtC-lKdRLP3B"
      },
      "source": [
        "epochs = 15"
      ],
      "execution_count": null,
      "outputs": []
    },
    {
      "cell_type": "code",
      "metadata": {
        "colab": {
          "base_uri": "https://localhost:8080/"
        },
        "id": "_lzHLnB2GCUS",
        "outputId": "7209c2a2-fd25-41b6-bfa2-72c5fc793e8e"
      },
      "source": [
        "#1h 23mins de processamento\n",
        "for epoch in range(epochs):\n",
        "    model.train()\n",
        "    lloss = []\n",
        "    for x,y in dl_train:\n",
        "        x = x.to(device)\n",
        "        y = y.to(device)\n",
        "        pred = model(x)\n",
        "        closs = criterion(pred,y)\n",
        "        closs.backward()\n",
        "        opt.step()\n",
        "        opt.zero_grad()\n",
        "        lloss.append(closs.item())\n",
        "        #print(closs.item())\n",
        "    print(\"epoch %d media %4.3f\"%(epoch,np.mean(lloss)))"
      ],
      "execution_count": null,
      "outputs": [
        {
          "output_type": "stream",
          "text": [
            "/usr/local/lib/python3.7/dist-packages/torch/nn/functional.py:718: UserWarning: Named tensors and all their associated APIs are an experimental feature and subject to change. Please do not use them for anything important until they are released as stable. (Triggered internally at  /pytorch/c10/core/TensorImpl.h:1156.)\n",
            "  return torch.max_pool2d(input, kernel_size, stride, padding, dilation, ceil_mode)\n"
          ],
          "name": "stderr"
        },
        {
          "output_type": "stream",
          "text": [
            "epoch 0 media 1.259\n",
            "epoch 1 media 1.129\n",
            "epoch 2 media 1.052\n",
            "epoch 3 media 0.975\n",
            "epoch 4 media 0.890\n",
            "epoch 5 media 0.825\n",
            "epoch 6 media 0.762\n",
            "epoch 7 media 0.699\n",
            "epoch 8 media 0.617\n",
            "epoch 9 media 0.526\n",
            "epoch 10 media 0.449\n",
            "epoch 11 media 0.402\n",
            "epoch 12 media 0.363\n",
            "epoch 13 media 0.334\n",
            "epoch 14 media 0.309\n"
          ],
          "name": "stdout"
        }
      ]
    },
    {
      "cell_type": "markdown",
      "metadata": {
        "id": "V3FnVGvVLnJ5"
      },
      "source": [
        "# **Teste e Avaliação**"
      ]
    },
    {
      "cell_type": "code",
      "metadata": {
        "id": "4b8GLMVhGKBY"
      },
      "source": [
        "import sklearn.metrics as metrics\n",
        "from sklearn.metrics import  accuracy_score, precision_score,recall_score, f1_score, confusion_matrix\n",
        "from sklearn.metrics import classification_report"
      ],
      "execution_count": null,
      "outputs": []
    },
    {
      "cell_type": "code",
      "metadata": {
        "id": "qWE7FGFRP_6g"
      },
      "source": [
        "#11 mins de processamento\n",
        "model.eval()\n",
        "lres = []\n",
        "ytrue = []\n",
        "with torch.no_grad():\n",
        "    for data,target in dl_test:\n",
        "        data = data.to(device)\n",
        "        pred = model(data)\n",
        "        res  = pred.argmax(dim=1).cpu().tolist()\n",
        "        lres += res\n",
        "        ytrue += target"
      ],
      "execution_count": null,
      "outputs": []
    },
    {
      "cell_type": "code",
      "metadata": {
        "id": "SG0RqhQEQDho",
        "colab": {
          "base_uri": "https://localhost:8080/"
        },
        "outputId": "b705a628-3683-4154-fd9a-7dc49f25994e"
      },
      "source": [
        "target_names = ['Covid', 'Normal', 'Opacidade', 'Viral']\n",
        "print(\"Modelo B -  Shufflenet V2 x0 5\")\n",
        "print(\"\\n\")\n",
        "print(classification_report(ytrue, lres, target_names=target_names))\n",
        "matriz_conf = metrics.confusion_matrix(ytrue,lres)\n",
        "print(\"Matriz Confusa: \\n\", matriz_conf)"
      ],
      "execution_count": null,
      "outputs": [
        {
          "output_type": "stream",
          "text": [
            "Modelo B -  Shufflenet V2 x0 5\n",
            "\n",
            "\n",
            "              precision    recall  f1-score   support\n",
            "\n",
            "       Covid       0.82      0.89      0.85       564\n",
            "      Normal       0.89      0.86      0.87      1508\n",
            "   Opacidade       0.82      0.82      0.82       907\n",
            "       Viral       0.91      0.86      0.89       196\n",
            "\n",
            "    accuracy                           0.86      3175\n",
            "   macro avg       0.86      0.86      0.86      3175\n",
            "weighted avg       0.86      0.86      0.86      3175\n",
            "\n",
            "Matriz Confusa: \n",
            " [[ 501   31   30    2]\n",
            " [  63 1301  132   12]\n",
            " [  41  120  744    2]\n",
            " [   5   18    4  169]]\n"
          ],
          "name": "stdout"
        }
      ]
    },
    {
      "cell_type": "markdown",
      "metadata": {
        "id": "MAdlHNm3Lslt"
      },
      "source": [
        "# **Gráficos**"
      ]
    },
    {
      "cell_type": "code",
      "metadata": {
        "colab": {
          "base_uri": "https://localhost:8080/",
          "height": 295
        },
        "id": "VakQv97vo6qb",
        "outputId": "53ef9ba4-cca4-4e01-a4c8-7fe6c715aa91"
      },
      "source": [
        "import matplotlib.pyplot as plt\n",
        "  \n",
        "x = [0,1,2, 3, 4, 5, 6, 7, 8, 9, 10, 11, 12, 13, 14]\n",
        "y = [1.259, 1.129, 1.052, 0.975, 0.890, 0.825, 0.762, 0.699, 0.617, 0.526, 0.449, 0.402, 0.363, 0.334, 0.309]\n",
        "\n",
        "plt.plot(x, y)\n",
        "  \n",
        "plt.xlabel('x - Epoch')\n",
        "plt.ylabel('y - Media de Loss')\n",
        "plt.title('Loss x Epoch')\n",
        "\n",
        "plt.show()"
      ],
      "execution_count": null,
      "outputs": [
        {
          "output_type": "display_data",
          "data": {
            "image/png": "[encoded data removed]",
            "text/plain": [
              "<Figure size 432x288 with 1 Axes>"
            ]
          },
          "metadata": {
            "tags": [],
            "needs_background": "light"
          }
        }
      ]
    },
    {
      "cell_type": "code",
      "metadata": {
        "id": "oH8nTcLtpazg"
      },
      "source": [
        ""
      ],
      "execution_count": null,
      "outputs": []
    }
  ]
}